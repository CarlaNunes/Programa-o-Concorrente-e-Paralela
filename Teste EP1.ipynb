{
 "cells": [
  {
   "cell_type": "code",
   "execution_count": 9,
   "metadata": {},
   "outputs": [
    {
     "data": {
      "text/plain": [
       "13"
      ]
     },
     "execution_count": 9,
     "metadata": {},
     "output_type": "execute_result"
    }
   ],
   "source": [
    "f(x,y) = x^2 + y^2\n",
    "\n",
    "a = 2; b = 3;\n",
    "f(a,b)\n"
   ]
  },
  {
   "cell_type": "code",
   "execution_count": 10,
   "metadata": {},
   "outputs": [
    {
     "data": {
      "text/plain": [
       "f (generic function with 2 methods)"
      ]
     },
     "execution_count": 10,
     "metadata": {},
     "output_type": "execute_result"
    }
   ],
   "source": [
    "function f(x,y)\n",
    "    z = x^2 + y^2\n",
    "    return z\n",
    "    end    "
   ]
  },
  {
   "cell_type": "code",
   "execution_count": 11,
   "metadata": {},
   "outputs": [
    {
     "data": {
      "text/plain": [
       "5"
      ]
     },
     "execution_count": 11,
     "metadata": {},
     "output_type": "execute_result"
    }
   ],
   "source": [
    "f(1,2)"
   ]
  },
  {
   "cell_type": "code",
   "execution_count": 13,
   "metadata": {},
   "outputs": [
    {
     "name": "stdout",
     "output_type": "stream",
     "text": [
      "i is 2\n"
     ]
    }
   ],
   "source": [
    "i = 2\n",
    "if i==2\n",
    "    println(\"i is 2\")\n",
    "    elseif i == 3\n",
    "        printl(\"i is 3\")\n",
    "        end        \n",
    "    \n",
    "    "
   ]
  },
  {
   "cell_type": "code",
   "execution_count": 14,
   "metadata": {},
   "outputs": [
    {
     "name": "stdout",
     "output_type": "stream",
     "text": [
      "2\n",
      "4\n",
      "6\n",
      "8\n",
      "10\n",
      "12\n",
      "14\n",
      "16\n",
      "18\n",
      "20\n"
     ]
    }
   ],
   "source": [
    "for i in 1:10\n",
    "    println(2*i)\n",
    "end"
   ]
  },
  {
   "cell_type": "code",
   "execution_count": 16,
   "metadata": {},
   "outputs": [
    {
     "name": "stdout",
     "output_type": "stream",
     "text": [
      "less than 80\n"
     ]
    }
   ],
   "source": [
    "while rand(1:100)<80\n",
    "    println(\"less than 80\")\n",
    "end"
   ]
  },
  {
   "cell_type": "code",
   "execution_count": 17,
   "metadata": {},
   "outputs": [
    {
     "name": "stdout",
     "output_type": "stream",
     "text": [
      "[3, 2, 6]\n"
     ]
    }
   ],
   "source": [
    "x = [3,2,6]\n",
    "println(x)"
   ]
  },
  {
   "cell_type": "code",
   "execution_count": 18,
   "metadata": {},
   "outputs": [
    {
     "data": {
      "text/plain": [
       "0.8939966636005579"
      ]
     },
     "execution_count": 18,
     "metadata": {},
     "output_type": "execute_result"
    }
   ],
   "source": [
    "sin(90)"
   ]
  },
  {
   "cell_type": "code",
   "execution_count": 35,
   "metadata": {},
   "outputs": [],
   "source": [
    "using Pkg\n",
    "Pkg.add(\"Plots\")"
   ]
  },
  {
   "cell_type": "code",
   "execution_count": 42,
   "metadata": {},
   "outputs": [
    {
     "ename": "LoadError",
     "evalue": "ArgumentError: Package Gadfly not found in current path:\n- Run `import Pkg; Pkg.add(\"Gadfly\")` to install the Gadfly package.\n",
     "output_type": "error",
     "traceback": [
      "ArgumentError: Package Gadfly not found in current path:\n- Run `import Pkg; Pkg.add(\"Gadfly\")` to install the Gadfly package.\n",
      "",
      "Stacktrace:",
      " [1] require(into::Module, mod::Symbol)",
      "   @ Base .\\loading.jl:871",
      " [2] eval",
      "   @ .\\boot.jl:360 [inlined]",
      " [3] include_string(mapexpr::typeof(REPL.softscope), mod::Module, code::String, filename::String)",
      "   @ Base .\\loading.jl:1094"
     ]
    }
   ],
   "source": [
    "using Gadfly\n",
    "x = [1,2,3]\n",
    "y = [1,4,9]\n",
    "plot(x,y)\n"
   ]
  },
  {
   "cell_type": "code",
   "execution_count": 43,
   "metadata": {},
   "outputs": [
    {
     "ename": "BoundsError",
     "evalue": "BoundsError: attempt to access 3-element Vector{Float64} at index [1:10]",
     "output_type": "error",
     "traceback": [
      "BoundsError: attempt to access 3-element Vector{Float64} at index [1:10]",
      "",
      "Stacktrace:",
      "  [1] throw_boundserror(A::Vector{Float64}, I::Tuple{UnitRange{Int64}})",
      "    @ Base .\\abstractarray.jl:651",
      "  [2] checkbounds",
      "    @ .\\abstractarray.jl:616 [inlined]",
      "  [3] getindex(A::Vector{Float64}, I::UnitRange{Int64})",
      "    @ Base .\\array.jl:807",
      "  [4] gr_draw_segments(series::Plots.Series, x::Vector{Float64}, y::Vector{Float64}, fillrange::Nothing, clims::Tuple{Float64, Float64})",
      "    @ Plots C:\\Users\\Carla sama\\.julia\\packages\\Plots\\zd6zi\\src\\backends\\gr.jl:1722",
      "  [5] gr_add_series(sp::Plots.Subplot{Plots.GRBackend}, series::Plots.Series)",
      "    @ Plots C:\\Users\\Carla sama\\.julia\\packages\\Plots\\zd6zi\\src\\backends\\gr.jl:1637",
      "  [6] gr_display(sp::Plots.Subplot{Plots.GRBackend}, w::Measures.AbsoluteLength, h::Measures.AbsoluteLength, viewport_canvas::Vector{Float64})",
      "    @ Plots C:\\Users\\Carla sama\\.julia\\packages\\Plots\\zd6zi\\src\\backends\\gr.jl:955",
      "  [7] gr_display(plt::Plots.Plot{Plots.GRBackend}, fmt::String)",
      "    @ Plots C:\\Users\\Carla sama\\.julia\\packages\\Plots\\zd6zi\\src\\backends\\gr.jl:646",
      "  [8] _show(io::IOBuffer, #unused#::MIME{Symbol(\"image/svg+xml\")}, plt::Plots.Plot{Plots.GRBackend})",
      "    @ Plots C:\\Users\\Carla sama\\.julia\\packages\\Plots\\zd6zi\\src\\backends\\gr.jl:1893",
      "  [9] show(io::IOBuffer, m::MIME{Symbol(\"image/svg+xml\")}, plt::Plots.Plot{Plots.GRBackend})",
      "    @ Plots C:\\Users\\Carla sama\\.julia\\packages\\Plots\\zd6zi\\src\\output.jl:215",
      " [10] sprint(::Function, ::MIME{Symbol(\"image/svg+xml\")}, ::Vararg{Any, N} where N; context::Nothing, sizehint::Int64)",
      "    @ Base .\\strings\\io.jl:105",
      " [11] sprint",
      "    @ .\\strings\\io.jl:101 [inlined]",
      " [12] _ijulia_display_dict(plt::Plots.Plot{Plots.GRBackend})",
      "    @ Plots C:\\Users\\Carla sama\\.julia\\packages\\Plots\\zd6zi\\src\\ijulia.jl:53",
      " [13] display_dict(plt::Plots.Plot{Plots.GRBackend})",
      "    @ Plots C:\\Users\\Carla sama\\.julia\\packages\\Plots\\zd6zi\\src\\init.jl:77",
      " [14] #invokelatest#2",
      "    @ .\\essentials.jl:708 [inlined]",
      " [15] invokelatest",
      "    @ .\\essentials.jl:706 [inlined]",
      " [16] execute_request(socket::ZMQ.Socket, msg::IJulia.Msg)",
      "    @ IJulia C:\\Users\\Carla sama\\.julia\\packages\\IJulia\\e8kqU\\src\\execute_request.jl:112",
      " [17] #invokelatest#2",
      "    @ .\\essentials.jl:708 [inlined]",
      " [18] invokelatest",
      "    @ .\\essentials.jl:706 [inlined]",
      " [19] eventloop(socket::ZMQ.Socket)",
      "    @ IJulia C:\\Users\\Carla sama\\.julia\\packages\\IJulia\\e8kqU\\src\\eventloop.jl:8",
      " [20] (::IJulia.var\"#15#18\")()",
      "    @ IJulia .\\task.jl:411"
     ]
    }
   ],
   "source": [
    "plot(x,y)"
   ]
  },
  {
   "cell_type": "code",
   "execution_count": 38,
   "metadata": {},
   "outputs": [
    {
     "data": {
      "image/svg+xml": [
       "<?xml version=\"1.0\" encoding=\"utf-8\"?>\n",
       "<svg xmlns=\"http://www.w3.org/2000/svg\" xmlns:xlink=\"http://www.w3.org/1999/xlink\" width=\"600\" height=\"400\" viewBox=\"0 0 2400 1600\">\n",
       "<defs>\n",
       "  <clipPath id=\"clip490\">\n",
       "    <rect x=\"0\" y=\"0\" width=\"2400\" height=\"1600\"/>\n",
       "  </clipPath>\n",
       "</defs>\n",
       "<path clip-path=\"url(#clip490)\" d=\"\n",
       "M0 1600 L2400 1600 L2400 0 L0 0  Z\n",
       "  \" fill=\"#ffffff\" fill-rule=\"evenodd\" fill-opacity=\"1\"/>\n",
       "<defs>\n",
       "  <clipPath id=\"clip491\">\n",
       "    <rect x=\"480\" y=\"0\" width=\"1681\" height=\"1600\"/>\n",
       "  </clipPath>\n",
       "</defs>\n",
       "<path clip-path=\"url(#clip490)\" d=\"\n",
       "M156.598 1486.45 L2352.76 1486.45 L2352.76 47.2441 L156.598 47.2441  Z\n",
       "  \" fill=\"#ffffff\" fill-rule=\"evenodd\" fill-opacity=\"1\"/>\n",
       "<defs>\n",
       "  <clipPath id=\"clip492\">\n",
       "    <rect x=\"156\" y=\"47\" width=\"2197\" height=\"1440\"/>\n",
       "  </clipPath>\n",
       "</defs>\n",
       "<polyline clip-path=\"url(#clip492)\" style=\"stroke:#000000; stroke-linecap:butt; stroke-linejoin:round; stroke-width:2; stroke-opacity:0.1; fill:none\" points=\"\n",
       "  448.959,1486.45 448.959,47.2441 \n",
       "  \"/>\n",
       "<polyline clip-path=\"url(#clip492)\" style=\"stroke:#000000; stroke-linecap:butt; stroke-linejoin:round; stroke-width:2; stroke-opacity:0.1; fill:none\" points=\"\n",
       "  909.369,1486.45 909.369,47.2441 \n",
       "  \"/>\n",
       "<polyline clip-path=\"url(#clip492)\" style=\"stroke:#000000; stroke-linecap:butt; stroke-linejoin:round; stroke-width:2; stroke-opacity:0.1; fill:none\" points=\"\n",
       "  1369.78,1486.45 1369.78,47.2441 \n",
       "  \"/>\n",
       "<polyline clip-path=\"url(#clip492)\" style=\"stroke:#000000; stroke-linecap:butt; stroke-linejoin:round; stroke-width:2; stroke-opacity:0.1; fill:none\" points=\"\n",
       "  1830.19,1486.45 1830.19,47.2441 \n",
       "  \"/>\n",
       "<polyline clip-path=\"url(#clip492)\" style=\"stroke:#000000; stroke-linecap:butt; stroke-linejoin:round; stroke-width:2; stroke-opacity:0.1; fill:none\" points=\"\n",
       "  2290.6,1486.45 2290.6,47.2441 \n",
       "  \"/>\n",
       "<polyline clip-path=\"url(#clip490)\" style=\"stroke:#000000; stroke-linecap:butt; stroke-linejoin:round; stroke-width:4; stroke-opacity:1; fill:none\" points=\"\n",
       "  156.598,1486.45 2352.76,1486.45 \n",
       "  \"/>\n",
       "<polyline clip-path=\"url(#clip490)\" style=\"stroke:#000000; stroke-linecap:butt; stroke-linejoin:round; stroke-width:4; stroke-opacity:1; fill:none\" points=\"\n",
       "  448.959,1486.45 448.959,1469.18 \n",
       "  \"/>\n",
       "<polyline clip-path=\"url(#clip490)\" style=\"stroke:#000000; stroke-linecap:butt; stroke-linejoin:round; stroke-width:4; stroke-opacity:1; fill:none\" points=\"\n",
       "  909.369,1486.45 909.369,1469.18 \n",
       "  \"/>\n",
       "<polyline clip-path=\"url(#clip490)\" style=\"stroke:#000000; stroke-linecap:butt; stroke-linejoin:round; stroke-width:4; stroke-opacity:1; fill:none\" points=\"\n",
       "  1369.78,1486.45 1369.78,1469.18 \n",
       "  \"/>\n",
       "<polyline clip-path=\"url(#clip490)\" style=\"stroke:#000000; stroke-linecap:butt; stroke-linejoin:round; stroke-width:4; stroke-opacity:1; fill:none\" points=\"\n",
       "  1830.19,1486.45 1830.19,1469.18 \n",
       "  \"/>\n",
       "<polyline clip-path=\"url(#clip490)\" style=\"stroke:#000000; stroke-linecap:butt; stroke-linejoin:round; stroke-width:4; stroke-opacity:1; fill:none\" points=\"\n",
       "  2290.6,1486.45 2290.6,1469.18 \n",
       "  \"/>\n",
       "<path clip-path=\"url(#clip490)\" d=\"M443.612 1543.18 L459.931 1543.18 L459.931 1547.12 L437.987 1547.12 L437.987 1543.18 Q440.649 1540.43 445.232 1535.8 Q449.838 1531.15 451.019 1529.81 Q453.264 1527.28 454.144 1525.55 Q455.047 1523.79 455.047 1522.1 Q455.047 1519.34 453.102 1517.61 Q451.181 1515.87 448.079 1515.87 Q445.88 1515.87 443.426 1516.63 Q440.996 1517.4 438.218 1518.95 L438.218 1514.23 Q441.042 1513.09 443.496 1512.51 Q445.95 1511.93 447.987 1511.93 Q453.357 1511.93 456.551 1514.62 Q459.746 1517.31 459.746 1521.8 Q459.746 1523.93 458.936 1525.85 Q458.149 1527.74 456.042 1530.34 Q455.463 1531.01 452.362 1534.23 Q449.26 1537.42 443.612 1543.18 Z\" fill=\"#000000\" fill-rule=\"evenodd\" fill-opacity=\"1\" /><path clip-path=\"url(#clip490)\" d=\"M912.379 1516.63 L900.573 1535.08 L912.379 1535.08 L912.379 1516.63 M911.152 1512.56 L917.031 1512.56 L917.031 1535.08 L921.962 1535.08 L921.962 1538.97 L917.031 1538.97 L917.031 1547.12 L912.379 1547.12 L912.379 1538.97 L896.777 1538.97 L896.777 1534.46 L911.152 1512.56 Z\" fill=\"#000000\" fill-rule=\"evenodd\" fill-opacity=\"1\" /><path clip-path=\"url(#clip490)\" d=\"M1370.18 1527.98 Q1367.04 1527.98 1365.18 1530.13 Q1363.36 1532.28 1363.36 1536.03 Q1363.36 1539.76 1365.18 1541.93 Q1367.04 1544.09 1370.18 1544.09 Q1373.33 1544.09 1375.16 1541.93 Q1377.01 1539.76 1377.01 1536.03 Q1377.01 1532.28 1375.16 1530.13 Q1373.33 1527.98 1370.18 1527.98 M1379.47 1513.32 L1379.47 1517.58 Q1377.71 1516.75 1375.9 1516.31 Q1374.12 1515.87 1372.36 1515.87 Q1367.73 1515.87 1365.28 1519 Q1362.85 1522.12 1362.5 1528.44 Q1363.87 1526.43 1365.93 1525.36 Q1367.99 1524.27 1370.46 1524.27 Q1375.67 1524.27 1378.68 1527.44 Q1381.71 1530.59 1381.71 1536.03 Q1381.71 1541.36 1378.56 1544.57 Q1375.42 1547.79 1370.18 1547.79 Q1364.19 1547.79 1361.02 1543.21 Q1357.85 1538.6 1357.85 1529.87 Q1357.85 1521.68 1361.74 1516.82 Q1365.62 1511.93 1372.18 1511.93 Q1373.93 1511.93 1375.72 1512.28 Q1377.52 1512.63 1379.47 1513.32 Z\" fill=\"#000000\" fill-rule=\"evenodd\" fill-opacity=\"1\" /><path clip-path=\"url(#clip490)\" d=\"M1830.19 1530.71 Q1826.86 1530.71 1824.94 1532.49 Q1823.04 1534.27 1823.04 1537.4 Q1823.04 1540.52 1824.94 1542.31 Q1826.86 1544.09 1830.19 1544.09 Q1833.52 1544.09 1835.44 1542.31 Q1837.37 1540.5 1837.37 1537.4 Q1837.37 1534.27 1835.44 1532.49 Q1833.55 1530.71 1830.19 1530.71 M1825.51 1528.72 Q1822.5 1527.98 1820.82 1525.92 Q1819.15 1523.86 1819.15 1520.89 Q1819.15 1516.75 1822.09 1514.34 Q1825.05 1511.93 1830.19 1511.93 Q1835.35 1511.93 1838.29 1514.34 Q1841.23 1516.75 1841.23 1520.89 Q1841.23 1523.86 1839.54 1525.92 Q1837.88 1527.98 1834.89 1528.72 Q1838.27 1529.5 1840.14 1531.8 Q1842.04 1534.09 1842.04 1537.4 Q1842.04 1542.42 1838.96 1545.11 Q1835.91 1547.79 1830.19 1547.79 Q1824.47 1547.79 1821.39 1545.11 Q1818.34 1542.42 1818.34 1537.4 Q1818.34 1534.09 1820.24 1531.8 Q1822.13 1529.5 1825.51 1528.72 M1823.8 1521.33 Q1823.8 1524.02 1825.47 1525.52 Q1827.16 1527.03 1830.19 1527.03 Q1833.2 1527.03 1834.89 1525.52 Q1836.6 1524.02 1836.6 1521.33 Q1836.6 1518.65 1834.89 1517.14 Q1833.2 1515.64 1830.19 1515.64 Q1827.16 1515.64 1825.47 1517.14 Q1823.8 1518.65 1823.8 1521.33 Z\" fill=\"#000000\" fill-rule=\"evenodd\" fill-opacity=\"1\" /><path clip-path=\"url(#clip490)\" d=\"M2265.29 1543.18 L2272.93 1543.18 L2272.93 1516.82 L2264.62 1518.49 L2264.62 1514.23 L2272.88 1512.56 L2277.56 1512.56 L2277.56 1543.18 L2285.2 1543.18 L2285.2 1547.12 L2265.29 1547.12 L2265.29 1543.18 Z\" fill=\"#000000\" fill-rule=\"evenodd\" fill-opacity=\"1\" /><path clip-path=\"url(#clip490)\" d=\"M2304.64 1515.64 Q2301.03 1515.64 2299.2 1519.2 Q2297.39 1522.75 2297.39 1529.87 Q2297.39 1536.98 2299.2 1540.55 Q2301.03 1544.09 2304.64 1544.09 Q2308.27 1544.09 2310.08 1540.55 Q2311.91 1536.98 2311.91 1529.87 Q2311.91 1522.75 2310.08 1519.2 Q2308.27 1515.64 2304.64 1515.64 M2304.64 1511.93 Q2310.45 1511.93 2313.51 1516.54 Q2316.58 1521.12 2316.58 1529.87 Q2316.58 1538.6 2313.51 1543.21 Q2310.45 1547.79 2304.64 1547.79 Q2298.83 1547.79 2295.75 1543.21 Q2292.7 1538.6 2292.7 1529.87 Q2292.7 1521.12 2295.75 1516.54 Q2298.83 1511.93 2304.64 1511.93 Z\" fill=\"#000000\" fill-rule=\"evenodd\" fill-opacity=\"1\" /><polyline clip-path=\"url(#clip492)\" style=\"stroke:#000000; stroke-linecap:butt; stroke-linejoin:round; stroke-width:2; stroke-opacity:0.1; fill:none\" points=\"\n",
       "  156.598,1396.11 2352.76,1396.11 \n",
       "  \"/>\n",
       "<polyline clip-path=\"url(#clip492)\" style=\"stroke:#000000; stroke-linecap:butt; stroke-linejoin:round; stroke-width:2; stroke-opacity:0.1; fill:none\" points=\"\n",
       "  156.598,1068.84 2352.76,1068.84 \n",
       "  \"/>\n",
       "<polyline clip-path=\"url(#clip492)\" style=\"stroke:#000000; stroke-linecap:butt; stroke-linejoin:round; stroke-width:2; stroke-opacity:0.1; fill:none\" points=\"\n",
       "  156.598,741.578 2352.76,741.578 \n",
       "  \"/>\n",
       "<polyline clip-path=\"url(#clip492)\" style=\"stroke:#000000; stroke-linecap:butt; stroke-linejoin:round; stroke-width:2; stroke-opacity:0.1; fill:none\" points=\"\n",
       "  156.598,414.314 2352.76,414.314 \n",
       "  \"/>\n",
       "<polyline clip-path=\"url(#clip492)\" style=\"stroke:#000000; stroke-linecap:butt; stroke-linejoin:round; stroke-width:2; stroke-opacity:0.1; fill:none\" points=\"\n",
       "  156.598,87.0498 2352.76,87.0498 \n",
       "  \"/>\n",
       "<polyline clip-path=\"url(#clip490)\" style=\"stroke:#000000; stroke-linecap:butt; stroke-linejoin:round; stroke-width:4; stroke-opacity:1; fill:none\" points=\"\n",
       "  156.598,1486.45 156.598,47.2441 \n",
       "  \"/>\n",
       "<polyline clip-path=\"url(#clip490)\" style=\"stroke:#000000; stroke-linecap:butt; stroke-linejoin:round; stroke-width:4; stroke-opacity:1; fill:none\" points=\"\n",
       "  156.598,1396.11 182.952,1396.11 \n",
       "  \"/>\n",
       "<polyline clip-path=\"url(#clip490)\" style=\"stroke:#000000; stroke-linecap:butt; stroke-linejoin:round; stroke-width:4; stroke-opacity:1; fill:none\" points=\"\n",
       "  156.598,1068.84 182.952,1068.84 \n",
       "  \"/>\n",
       "<polyline clip-path=\"url(#clip490)\" style=\"stroke:#000000; stroke-linecap:butt; stroke-linejoin:round; stroke-width:4; stroke-opacity:1; fill:none\" points=\"\n",
       "  156.598,741.578 182.952,741.578 \n",
       "  \"/>\n",
       "<polyline clip-path=\"url(#clip490)\" style=\"stroke:#000000; stroke-linecap:butt; stroke-linejoin:round; stroke-width:4; stroke-opacity:1; fill:none\" points=\"\n",
       "  156.598,414.314 182.952,414.314 \n",
       "  \"/>\n",
       "<polyline clip-path=\"url(#clip490)\" style=\"stroke:#000000; stroke-linecap:butt; stroke-linejoin:round; stroke-width:4; stroke-opacity:1; fill:none\" points=\"\n",
       "  156.598,87.0498 182.952,87.0498 \n",
       "  \"/>\n",
       "<path clip-path=\"url(#clip490)\" d=\"M65.0198 1381.9 Q61.4087 1381.9 59.58 1385.47 Q57.7745 1389.01 57.7745 1396.14 Q57.7745 1403.25 59.58 1406.81 Q61.4087 1410.35 65.0198 1410.35 Q68.6541 1410.35 70.4596 1406.81 Q72.2883 1403.25 72.2883 1396.14 Q72.2883 1389.01 70.4596 1385.47 Q68.6541 1381.9 65.0198 1381.9 M65.0198 1378.2 Q70.83 1378.2 73.8855 1382.81 Q76.9642 1387.39 76.9642 1396.14 Q76.9642 1404.87 73.8855 1409.47 Q70.83 1414.06 65.0198 1414.06 Q59.2097 1414.06 56.131 1409.47 Q53.0754 1404.87 53.0754 1396.14 Q53.0754 1387.39 56.131 1382.81 Q59.2097 1378.2 65.0198 1378.2 Z\" fill=\"#000000\" fill-rule=\"evenodd\" fill-opacity=\"1\" /><path clip-path=\"url(#clip490)\" d=\"M85.1818 1407.51 L90.066 1407.51 L90.066 1413.39 L85.1818 1413.39 L85.1818 1407.51 Z\" fill=\"#000000\" fill-rule=\"evenodd\" fill-opacity=\"1\" /><path clip-path=\"url(#clip490)\" d=\"M104.279 1409.45 L120.598 1409.45 L120.598 1413.39 L98.6539 1413.39 L98.6539 1409.45 Q101.316 1406.7 105.899 1402.07 Q110.506 1397.41 111.686 1396.07 Q113.932 1393.55 114.811 1391.81 Q115.714 1390.05 115.714 1388.36 Q115.714 1385.61 113.77 1383.87 Q111.848 1382.14 108.746 1382.14 Q106.547 1382.14 104.094 1382.9 Q101.663 1383.66 98.8854 1385.21 L98.8854 1380.49 Q101.709 1379.36 104.163 1378.78 Q106.617 1378.2 108.654 1378.2 Q114.024 1378.2 117.219 1380.89 Q120.413 1383.57 120.413 1388.06 Q120.413 1390.19 119.603 1392.11 Q118.816 1394.01 116.709 1396.6 Q116.131 1397.27 113.029 1400.49 Q109.927 1403.69 104.279 1409.45 Z\" fill=\"#000000\" fill-rule=\"evenodd\" fill-opacity=\"1\" /><path clip-path=\"url(#clip490)\" d=\"M62.9365 1054.64 Q59.3254 1054.64 57.4967 1058.2 Q55.6912 1061.75 55.6912 1068.88 Q55.6912 1075.98 57.4967 1079.55 Q59.3254 1083.09 62.9365 1083.09 Q66.5707 1083.09 68.3763 1079.55 Q70.205 1075.98 70.205 1068.88 Q70.205 1061.75 68.3763 1058.2 Q66.5707 1054.64 62.9365 1054.64 M62.9365 1050.94 Q68.7467 1050.94 71.8022 1055.54 Q74.8809 1060.13 74.8809 1068.88 Q74.8809 1077.6 71.8022 1082.21 Q68.7467 1086.79 62.9365 1086.79 Q57.1264 1086.79 54.0477 1082.21 Q50.9921 1077.6 50.9921 1068.88 Q50.9921 1060.13 54.0477 1055.54 Q57.1264 1050.94 62.9365 1050.94 Z\" fill=\"#000000\" fill-rule=\"evenodd\" fill-opacity=\"1\" /><path clip-path=\"url(#clip490)\" d=\"M83.0984 1080.24 L87.9827 1080.24 L87.9827 1086.12 L83.0984 1086.12 L83.0984 1080.24 Z\" fill=\"#000000\" fill-rule=\"evenodd\" fill-opacity=\"1\" /><path clip-path=\"url(#clip490)\" d=\"M111.015 1055.64 L99.2095 1074.08 L111.015 1074.08 L111.015 1055.64 M109.788 1051.56 L115.668 1051.56 L115.668 1074.08 L120.598 1074.08 L120.598 1077.97 L115.668 1077.97 L115.668 1086.12 L111.015 1086.12 L111.015 1077.97 L95.4132 1077.97 L95.4132 1073.46 L109.788 1051.56 Z\" fill=\"#000000\" fill-rule=\"evenodd\" fill-opacity=\"1\" /><path clip-path=\"url(#clip490)\" d=\"M63.2606 727.376 Q59.6495 727.376 57.8208 730.941 Q56.0152 734.483 56.0152 741.612 Q56.0152 748.719 57.8208 752.284 Q59.6495 755.825 63.2606 755.825 Q66.8948 755.825 68.7004 752.284 Q70.5291 748.719 70.5291 741.612 Q70.5291 734.483 68.7004 730.941 Q66.8948 727.376 63.2606 727.376 M63.2606 723.673 Q69.0707 723.673 72.1263 728.279 Q75.205 732.862 75.205 741.612 Q75.205 750.339 72.1263 754.946 Q69.0707 759.529 63.2606 759.529 Q57.4504 759.529 54.3717 754.946 Q51.3162 750.339 51.3162 741.612 Q51.3162 732.862 54.3717 728.279 Q57.4504 723.673 63.2606 723.673 Z\" fill=\"#000000\" fill-rule=\"evenodd\" fill-opacity=\"1\" /><path clip-path=\"url(#clip490)\" d=\"M83.4225 752.978 L88.3067 752.978 L88.3067 758.858 L83.4225 758.858 L83.4225 752.978 Z\" fill=\"#000000\" fill-rule=\"evenodd\" fill-opacity=\"1\" /><path clip-path=\"url(#clip490)\" d=\"M109.071 739.714 Q105.922 739.714 104.071 741.867 Q102.242 744.02 102.242 747.77 Q102.242 751.496 104.071 753.672 Q105.922 755.825 109.071 755.825 Q112.219 755.825 114.047 753.672 Q115.899 751.496 115.899 747.77 Q115.899 744.02 114.047 741.867 Q112.219 739.714 109.071 739.714 M118.353 725.061 L118.353 729.321 Q116.594 728.487 114.788 728.048 Q113.006 727.608 111.246 727.608 Q106.617 727.608 104.163 730.733 Q101.733 733.858 101.385 740.177 Q102.751 738.163 104.811 737.098 Q106.871 736.01 109.348 736.01 Q114.557 736.01 117.566 739.182 Q120.598 742.33 120.598 747.77 Q120.598 753.094 117.45 756.311 Q114.302 759.529 109.071 759.529 Q103.075 759.529 99.9039 754.946 Q96.7326 750.339 96.7326 741.612 Q96.7326 733.418 100.621 728.557 Q104.51 723.673 111.061 723.673 Q112.82 723.673 114.603 724.02 Q116.408 724.367 118.353 725.061 Z\" fill=\"#000000\" fill-rule=\"evenodd\" fill-opacity=\"1\" /><path clip-path=\"url(#clip490)\" d=\"M63.5152 400.112 Q59.9041 400.112 58.0754 403.677 Q56.2699 407.219 56.2699 414.348 Q56.2699 421.455 58.0754 425.02 Q59.9041 428.561 63.5152 428.561 Q67.1494 428.561 68.955 425.02 Q70.7837 421.455 70.7837 414.348 Q70.7837 407.219 68.955 403.677 Q67.1494 400.112 63.5152 400.112 M63.5152 396.409 Q69.3254 396.409 72.3809 401.015 Q75.4596 405.598 75.4596 414.348 Q75.4596 423.075 72.3809 427.682 Q69.3254 432.265 63.5152 432.265 Q57.7051 432.265 54.6264 427.682 Q51.5708 423.075 51.5708 414.348 Q51.5708 405.598 54.6264 401.015 Q57.7051 396.409 63.5152 396.409 Z\" fill=\"#000000\" fill-rule=\"evenodd\" fill-opacity=\"1\" /><path clip-path=\"url(#clip490)\" d=\"M83.6771 425.714 L88.5614 425.714 L88.5614 431.594 L83.6771 431.594 L83.6771 425.714 Z\" fill=\"#000000\" fill-rule=\"evenodd\" fill-opacity=\"1\" /><path clip-path=\"url(#clip490)\" d=\"M108.746 415.182 Q105.413 415.182 103.492 416.964 Q101.594 418.747 101.594 421.872 Q101.594 424.996 103.492 426.779 Q105.413 428.561 108.746 428.561 Q112.08 428.561 114.001 426.779 Q115.922 424.973 115.922 421.872 Q115.922 418.747 114.001 416.964 Q112.103 415.182 108.746 415.182 M104.071 413.191 Q101.061 412.45 99.3715 410.39 Q97.7048 408.33 97.7048 405.367 Q97.7048 401.223 100.645 398.816 Q103.608 396.409 108.746 396.409 Q113.908 396.409 116.848 398.816 Q119.788 401.223 119.788 405.367 Q119.788 408.33 118.098 410.39 Q116.432 412.45 113.445 413.191 Q116.825 413.978 118.7 416.27 Q120.598 418.561 120.598 421.872 Q120.598 426.895 117.52 429.58 Q114.464 432.265 108.746 432.265 Q103.029 432.265 99.9502 429.58 Q96.8947 426.895 96.8947 421.872 Q96.8947 418.561 98.7928 416.27 Q100.691 413.978 104.071 413.191 M102.358 405.807 Q102.358 408.492 104.024 409.997 Q105.714 411.501 108.746 411.501 Q111.756 411.501 113.445 409.997 Q115.158 408.492 115.158 405.807 Q115.158 403.122 113.445 401.617 Q111.756 400.112 108.746 400.112 Q105.714 400.112 104.024 401.617 Q102.358 403.122 102.358 405.807 Z\" fill=\"#000000\" fill-rule=\"evenodd\" fill-opacity=\"1\" /><path clip-path=\"url(#clip490)\" d=\"M54.2328 100.395 L61.8717 100.395 L61.8717 74.029 L53.5616 75.6957 L53.5616 71.4365 L61.8254 69.7698 L66.5013 69.7698 L66.5013 100.395 L74.1402 100.395 L74.1402 104.33 L54.2328 104.33 L54.2328 100.395 Z\" fill=\"#000000\" fill-rule=\"evenodd\" fill-opacity=\"1\" /><path clip-path=\"url(#clip490)\" d=\"M83.5845 98.4502 L88.4688 98.4502 L88.4688 104.33 L83.5845 104.33 L83.5845 98.4502 Z\" fill=\"#000000\" fill-rule=\"evenodd\" fill-opacity=\"1\" /><path clip-path=\"url(#clip490)\" d=\"M108.654 72.8485 Q105.043 72.8485 103.214 76.4133 Q101.409 79.9549 101.409 87.0845 Q101.409 94.191 103.214 97.7558 Q105.043 101.297 108.654 101.297 Q112.288 101.297 114.094 97.7558 Q115.922 94.191 115.922 87.0845 Q115.922 79.9549 114.094 76.4133 Q112.288 72.8485 108.654 72.8485 M108.654 69.1448 Q114.464 69.1448 117.52 73.7513 Q120.598 78.3346 120.598 87.0845 Q120.598 95.8113 117.52 100.418 Q114.464 105.001 108.654 105.001 Q102.844 105.001 99.765 100.418 Q96.7095 95.8113 96.7095 87.0845 Q96.7095 78.3346 99.765 73.7513 Q102.844 69.1448 108.654 69.1448 Z\" fill=\"#000000\" fill-rule=\"evenodd\" fill-opacity=\"1\" /><polyline clip-path=\"url(#clip492)\" style=\"stroke:#009af9; stroke-linecap:butt; stroke-linejoin:round; stroke-width:4; stroke-opacity:1; fill:none\" points=\"\n",
       "  218.754,645.348 448.959,503.686 679.164,87.9763 909.369,158.728 1139.57,167.867 1369.78,1445.72 1599.98,710.171 1830.19,618.487 2060.4,1136.3 2290.6,1218.06 \n",
       "  \n",
       "  \"/>\n",
       "<path clip-path=\"url(#clip490)\" d=\"\n",
       "M1983.1 216.178 L2279.55 216.178 L2279.55 95.2176 L1983.1 95.2176  Z\n",
       "  \" fill=\"#ffffff\" fill-rule=\"evenodd\" fill-opacity=\"1\"/>\n",
       "<polyline clip-path=\"url(#clip490)\" style=\"stroke:#000000; stroke-linecap:butt; stroke-linejoin:round; stroke-width:4; stroke-opacity:1; fill:none\" points=\"\n",
       "  1983.1,216.178 2279.55,216.178 2279.55,95.2176 1983.1,95.2176 1983.1,216.178 \n",
       "  \"/>\n",
       "<polyline clip-path=\"url(#clip490)\" style=\"stroke:#009af9; stroke-linecap:butt; stroke-linejoin:round; stroke-width:4; stroke-opacity:1; fill:none\" points=\"\n",
       "  2007.5,155.698 2153.92,155.698 \n",
       "  \"/>\n",
       "<path clip-path=\"url(#clip490)\" d=\"M2192.16 175.385 Q2190.35 180.015 2188.64 181.427 Q2186.93 182.839 2184.06 182.839 L2180.65 182.839 L2180.65 179.274 L2183.15 179.274 Q2184.91 179.274 2185.89 178.44 Q2186.86 177.607 2188.04 174.505 L2188.8 172.561 L2178.32 147.052 L2182.83 147.052 L2190.93 167.329 L2199.03 147.052 L2203.55 147.052 L2192.16 175.385 Z\" fill=\"#000000\" fill-rule=\"evenodd\" fill-opacity=\"1\" /><path clip-path=\"url(#clip490)\" d=\"M2210.84 169.042 L2218.48 169.042 L2218.48 142.677 L2210.17 144.343 L2210.17 140.084 L2218.43 138.418 L2223.11 138.418 L2223.11 169.042 L2230.75 169.042 L2230.75 172.978 L2210.84 172.978 L2210.84 169.042 Z\" fill=\"#000000\" fill-rule=\"evenodd\" fill-opacity=\"1\" /></svg>\n"
      ]
     },
     "execution_count": 38,
     "metadata": {},
     "output_type": "execute_result"
    }
   ],
   "source": [
    "using Plots\n",
    "y = rand(10)\n",
    "plot(y)"
   ]
  },
  {
   "cell_type": "code",
   "execution_count": 39,
   "metadata": {},
   "outputs": [],
   "source": [
    "using Plots\n"
   ]
  },
  {
   "cell_type": "code",
   "execution_count": 40,
   "metadata": {},
   "outputs": [
    {
     "data": {
      "image/svg+xml": [
       "<?xml version=\"1.0\" encoding=\"utf-8\"?>\n",
       "<svg xmlns=\"http://www.w3.org/2000/svg\" xmlns:xlink=\"http://www.w3.org/1999/xlink\" width=\"600\" height=\"400\" viewBox=\"0 0 2400 1600\">\n",
       "<defs>\n",
       "  <clipPath id=\"clip530\">\n",
       "    <rect x=\"0\" y=\"0\" width=\"2400\" height=\"1600\"/>\n",
       "  </clipPath>\n",
       "</defs>\n",
       "<path clip-path=\"url(#clip530)\" d=\"\n",
       "M0 1600 L2400 1600 L2400 0 L0 0  Z\n",
       "  \" fill=\"#ffffff\" fill-rule=\"evenodd\" fill-opacity=\"1\"/>\n",
       "<defs>\n",
       "  <clipPath id=\"clip531\">\n",
       "    <rect x=\"480\" y=\"0\" width=\"1681\" height=\"1600\"/>\n",
       "  </clipPath>\n",
       "</defs>\n",
       "<path clip-path=\"url(#clip530)\" d=\"\n",
       "M156.598 1486.45 L2352.76 1486.45 L2352.76 47.2441 L156.598 47.2441  Z\n",
       "  \" fill=\"#ffffff\" fill-rule=\"evenodd\" fill-opacity=\"1\"/>\n",
       "<defs>\n",
       "  <clipPath id=\"clip532\">\n",
       "    <rect x=\"156\" y=\"47\" width=\"2197\" height=\"1440\"/>\n",
       "  </clipPath>\n",
       "</defs>\n",
       "<polyline clip-path=\"url(#clip532)\" style=\"stroke:#000000; stroke-linecap:butt; stroke-linejoin:round; stroke-width:2; stroke-opacity:0.1; fill:none\" points=\"\n",
       "  448.959,1486.45 448.959,47.2441 \n",
       "  \"/>\n",
       "<polyline clip-path=\"url(#clip532)\" style=\"stroke:#000000; stroke-linecap:butt; stroke-linejoin:round; stroke-width:2; stroke-opacity:0.1; fill:none\" points=\"\n",
       "  909.369,1486.45 909.369,47.2441 \n",
       "  \"/>\n",
       "<polyline clip-path=\"url(#clip532)\" style=\"stroke:#000000; stroke-linecap:butt; stroke-linejoin:round; stroke-width:2; stroke-opacity:0.1; fill:none\" points=\"\n",
       "  1369.78,1486.45 1369.78,47.2441 \n",
       "  \"/>\n",
       "<polyline clip-path=\"url(#clip532)\" style=\"stroke:#000000; stroke-linecap:butt; stroke-linejoin:round; stroke-width:2; stroke-opacity:0.1; fill:none\" points=\"\n",
       "  1830.19,1486.45 1830.19,47.2441 \n",
       "  \"/>\n",
       "<polyline clip-path=\"url(#clip532)\" style=\"stroke:#000000; stroke-linecap:butt; stroke-linejoin:round; stroke-width:2; stroke-opacity:0.1; fill:none\" points=\"\n",
       "  2290.6,1486.45 2290.6,47.2441 \n",
       "  \"/>\n",
       "<polyline clip-path=\"url(#clip530)\" style=\"stroke:#000000; stroke-linecap:butt; stroke-linejoin:round; stroke-width:4; stroke-opacity:1; fill:none\" points=\"\n",
       "  156.598,1486.45 2352.76,1486.45 \n",
       "  \"/>\n",
       "<polyline clip-path=\"url(#clip530)\" style=\"stroke:#000000; stroke-linecap:butt; stroke-linejoin:round; stroke-width:4; stroke-opacity:1; fill:none\" points=\"\n",
       "  448.959,1486.45 448.959,1469.18 \n",
       "  \"/>\n",
       "<polyline clip-path=\"url(#clip530)\" style=\"stroke:#000000; stroke-linecap:butt; stroke-linejoin:round; stroke-width:4; stroke-opacity:1; fill:none\" points=\"\n",
       "  909.369,1486.45 909.369,1469.18 \n",
       "  \"/>\n",
       "<polyline clip-path=\"url(#clip530)\" style=\"stroke:#000000; stroke-linecap:butt; stroke-linejoin:round; stroke-width:4; stroke-opacity:1; fill:none\" points=\"\n",
       "  1369.78,1486.45 1369.78,1469.18 \n",
       "  \"/>\n",
       "<polyline clip-path=\"url(#clip530)\" style=\"stroke:#000000; stroke-linecap:butt; stroke-linejoin:round; stroke-width:4; stroke-opacity:1; fill:none\" points=\"\n",
       "  1830.19,1486.45 1830.19,1469.18 \n",
       "  \"/>\n",
       "<polyline clip-path=\"url(#clip530)\" style=\"stroke:#000000; stroke-linecap:butt; stroke-linejoin:round; stroke-width:4; stroke-opacity:1; fill:none\" points=\"\n",
       "  2290.6,1486.45 2290.6,1469.18 \n",
       "  \"/>\n",
       "<path clip-path=\"url(#clip530)\" d=\"M443.612 1543.18 L459.931 1543.18 L459.931 1547.12 L437.987 1547.12 L437.987 1543.18 Q440.649 1540.43 445.232 1535.8 Q449.838 1531.15 451.019 1529.81 Q453.264 1527.28 454.144 1525.55 Q455.047 1523.79 455.047 1522.1 Q455.047 1519.34 453.102 1517.61 Q451.181 1515.87 448.079 1515.87 Q445.88 1515.87 443.426 1516.63 Q440.996 1517.4 438.218 1518.95 L438.218 1514.23 Q441.042 1513.09 443.496 1512.51 Q445.95 1511.93 447.987 1511.93 Q453.357 1511.93 456.551 1514.62 Q459.746 1517.31 459.746 1521.8 Q459.746 1523.93 458.936 1525.85 Q458.149 1527.74 456.042 1530.34 Q455.463 1531.01 452.362 1534.23 Q449.26 1537.42 443.612 1543.18 Z\" fill=\"#000000\" fill-rule=\"evenodd\" fill-opacity=\"1\" /><path clip-path=\"url(#clip530)\" d=\"M912.379 1516.63 L900.573 1535.08 L912.379 1535.08 L912.379 1516.63 M911.152 1512.56 L917.031 1512.56 L917.031 1535.08 L921.962 1535.08 L921.962 1538.97 L917.031 1538.97 L917.031 1547.12 L912.379 1547.12 L912.379 1538.97 L896.777 1538.97 L896.777 1534.46 L911.152 1512.56 Z\" fill=\"#000000\" fill-rule=\"evenodd\" fill-opacity=\"1\" /><path clip-path=\"url(#clip530)\" d=\"M1370.18 1527.98 Q1367.04 1527.98 1365.18 1530.13 Q1363.36 1532.28 1363.36 1536.03 Q1363.36 1539.76 1365.18 1541.93 Q1367.04 1544.09 1370.18 1544.09 Q1373.33 1544.09 1375.16 1541.93 Q1377.01 1539.76 1377.01 1536.03 Q1377.01 1532.28 1375.16 1530.13 Q1373.33 1527.98 1370.18 1527.98 M1379.47 1513.32 L1379.47 1517.58 Q1377.71 1516.75 1375.9 1516.31 Q1374.12 1515.87 1372.36 1515.87 Q1367.73 1515.87 1365.28 1519 Q1362.85 1522.12 1362.5 1528.44 Q1363.87 1526.43 1365.93 1525.36 Q1367.99 1524.27 1370.46 1524.27 Q1375.67 1524.27 1378.68 1527.44 Q1381.71 1530.59 1381.71 1536.03 Q1381.71 1541.36 1378.56 1544.57 Q1375.42 1547.79 1370.18 1547.79 Q1364.19 1547.79 1361.02 1543.21 Q1357.85 1538.6 1357.85 1529.87 Q1357.85 1521.68 1361.74 1516.82 Q1365.62 1511.93 1372.18 1511.93 Q1373.93 1511.93 1375.72 1512.28 Q1377.52 1512.63 1379.47 1513.32 Z\" fill=\"#000000\" fill-rule=\"evenodd\" fill-opacity=\"1\" /><path clip-path=\"url(#clip530)\" d=\"M1830.19 1530.71 Q1826.86 1530.71 1824.94 1532.49 Q1823.04 1534.27 1823.04 1537.4 Q1823.04 1540.52 1824.94 1542.31 Q1826.86 1544.09 1830.19 1544.09 Q1833.52 1544.09 1835.44 1542.31 Q1837.37 1540.5 1837.37 1537.4 Q1837.37 1534.27 1835.44 1532.49 Q1833.55 1530.71 1830.19 1530.71 M1825.51 1528.72 Q1822.5 1527.98 1820.82 1525.92 Q1819.15 1523.86 1819.15 1520.89 Q1819.15 1516.75 1822.09 1514.34 Q1825.05 1511.93 1830.19 1511.93 Q1835.35 1511.93 1838.29 1514.34 Q1841.23 1516.75 1841.23 1520.89 Q1841.23 1523.86 1839.54 1525.92 Q1837.88 1527.98 1834.89 1528.72 Q1838.27 1529.5 1840.14 1531.8 Q1842.04 1534.09 1842.04 1537.4 Q1842.04 1542.42 1838.96 1545.11 Q1835.91 1547.79 1830.19 1547.79 Q1824.47 1547.79 1821.39 1545.11 Q1818.34 1542.42 1818.34 1537.4 Q1818.34 1534.09 1820.24 1531.8 Q1822.13 1529.5 1825.51 1528.72 M1823.8 1521.33 Q1823.8 1524.02 1825.47 1525.52 Q1827.16 1527.03 1830.19 1527.03 Q1833.2 1527.03 1834.89 1525.52 Q1836.6 1524.02 1836.6 1521.33 Q1836.6 1518.65 1834.89 1517.14 Q1833.2 1515.64 1830.19 1515.64 Q1827.16 1515.64 1825.47 1517.14 Q1823.8 1518.65 1823.8 1521.33 Z\" fill=\"#000000\" fill-rule=\"evenodd\" fill-opacity=\"1\" /><path clip-path=\"url(#clip530)\" d=\"M2265.29 1543.18 L2272.93 1543.18 L2272.93 1516.82 L2264.62 1518.49 L2264.62 1514.23 L2272.88 1512.56 L2277.56 1512.56 L2277.56 1543.18 L2285.2 1543.18 L2285.2 1547.12 L2265.29 1547.12 L2265.29 1543.18 Z\" fill=\"#000000\" fill-rule=\"evenodd\" fill-opacity=\"1\" /><path clip-path=\"url(#clip530)\" d=\"M2304.64 1515.64 Q2301.03 1515.64 2299.2 1519.2 Q2297.39 1522.75 2297.39 1529.87 Q2297.39 1536.98 2299.2 1540.55 Q2301.03 1544.09 2304.64 1544.09 Q2308.27 1544.09 2310.08 1540.55 Q2311.91 1536.98 2311.91 1529.87 Q2311.91 1522.75 2310.08 1519.2 Q2308.27 1515.64 2304.64 1515.64 M2304.64 1511.93 Q2310.45 1511.93 2313.51 1516.54 Q2316.58 1521.12 2316.58 1529.87 Q2316.58 1538.6 2313.51 1543.21 Q2310.45 1547.79 2304.64 1547.79 Q2298.83 1547.79 2295.75 1543.21 Q2292.7 1538.6 2292.7 1529.87 Q2292.7 1521.12 2295.75 1516.54 Q2298.83 1511.93 2304.64 1511.93 Z\" fill=\"#000000\" fill-rule=\"evenodd\" fill-opacity=\"1\" /><polyline clip-path=\"url(#clip532)\" style=\"stroke:#000000; stroke-linecap:butt; stroke-linejoin:round; stroke-width:2; stroke-opacity:0.1; fill:none\" points=\"\n",
       "  156.598,1453.38 2352.76,1453.38 \n",
       "  \"/>\n",
       "<polyline clip-path=\"url(#clip532)\" style=\"stroke:#000000; stroke-linecap:butt; stroke-linejoin:round; stroke-width:2; stroke-opacity:0.1; fill:none\" points=\"\n",
       "  156.598,1157.33 2352.76,1157.33 \n",
       "  \"/>\n",
       "<polyline clip-path=\"url(#clip532)\" style=\"stroke:#000000; stroke-linecap:butt; stroke-linejoin:round; stroke-width:2; stroke-opacity:0.1; fill:none\" points=\"\n",
       "  156.598,861.284 2352.76,861.284 \n",
       "  \"/>\n",
       "<polyline clip-path=\"url(#clip532)\" style=\"stroke:#000000; stroke-linecap:butt; stroke-linejoin:round; stroke-width:2; stroke-opacity:0.1; fill:none\" points=\"\n",
       "  156.598,565.235 2352.76,565.235 \n",
       "  \"/>\n",
       "<polyline clip-path=\"url(#clip532)\" style=\"stroke:#000000; stroke-linecap:butt; stroke-linejoin:round; stroke-width:2; stroke-opacity:0.1; fill:none\" points=\"\n",
       "  156.598,269.187 2352.76,269.187 \n",
       "  \"/>\n",
       "<polyline clip-path=\"url(#clip530)\" style=\"stroke:#000000; stroke-linecap:butt; stroke-linejoin:round; stroke-width:4; stroke-opacity:1; fill:none\" points=\"\n",
       "  156.598,1486.45 156.598,47.2441 \n",
       "  \"/>\n",
       "<polyline clip-path=\"url(#clip530)\" style=\"stroke:#000000; stroke-linecap:butt; stroke-linejoin:round; stroke-width:4; stroke-opacity:1; fill:none\" points=\"\n",
       "  156.598,1453.38 182.952,1453.38 \n",
       "  \"/>\n",
       "<polyline clip-path=\"url(#clip530)\" style=\"stroke:#000000; stroke-linecap:butt; stroke-linejoin:round; stroke-width:4; stroke-opacity:1; fill:none\" points=\"\n",
       "  156.598,1157.33 182.952,1157.33 \n",
       "  \"/>\n",
       "<polyline clip-path=\"url(#clip530)\" style=\"stroke:#000000; stroke-linecap:butt; stroke-linejoin:round; stroke-width:4; stroke-opacity:1; fill:none\" points=\"\n",
       "  156.598,861.284 182.952,861.284 \n",
       "  \"/>\n",
       "<polyline clip-path=\"url(#clip530)\" style=\"stroke:#000000; stroke-linecap:butt; stroke-linejoin:round; stroke-width:4; stroke-opacity:1; fill:none\" points=\"\n",
       "  156.598,565.235 182.952,565.235 \n",
       "  \"/>\n",
       "<polyline clip-path=\"url(#clip530)\" style=\"stroke:#000000; stroke-linecap:butt; stroke-linejoin:round; stroke-width:4; stroke-opacity:1; fill:none\" points=\"\n",
       "  156.598,269.187 182.952,269.187 \n",
       "  \"/>\n",
       "<path clip-path=\"url(#clip530)\" d=\"M63.4226 1439.18 Q59.8115 1439.18 57.9828 1442.74 Q56.1773 1446.29 56.1773 1453.42 Q56.1773 1460.52 57.9828 1464.09 Q59.8115 1467.63 63.4226 1467.63 Q67.0569 1467.63 68.8624 1464.09 Q70.6911 1460.52 70.6911 1453.42 Q70.6911 1446.29 68.8624 1442.74 Q67.0569 1439.18 63.4226 1439.18 M63.4226 1435.48 Q69.2328 1435.48 72.2883 1440.08 Q75.367 1444.67 75.367 1453.42 Q75.367 1462.14 72.2883 1466.75 Q69.2328 1471.33 63.4226 1471.33 Q57.6125 1471.33 54.5338 1466.75 Q51.4782 1462.14 51.4782 1453.42 Q51.4782 1444.67 54.5338 1440.08 Q57.6125 1435.48 63.4226 1435.48 Z\" fill=\"#000000\" fill-rule=\"evenodd\" fill-opacity=\"1\" /><path clip-path=\"url(#clip530)\" d=\"M83.5845 1464.78 L88.4688 1464.78 L88.4688 1470.66 L83.5845 1470.66 L83.5845 1464.78 Z\" fill=\"#000000\" fill-rule=\"evenodd\" fill-opacity=\"1\" /><path clip-path=\"url(#clip530)\" d=\"M108.654 1439.18 Q105.043 1439.18 103.214 1442.74 Q101.409 1446.29 101.409 1453.42 Q101.409 1460.52 103.214 1464.09 Q105.043 1467.63 108.654 1467.63 Q112.288 1467.63 114.094 1464.09 Q115.922 1460.52 115.922 1453.42 Q115.922 1446.29 114.094 1442.74 Q112.288 1439.18 108.654 1439.18 M108.654 1435.48 Q114.464 1435.48 117.52 1440.08 Q120.598 1444.67 120.598 1453.42 Q120.598 1462.14 117.52 1466.75 Q114.464 1471.33 108.654 1471.33 Q102.844 1471.33 99.765 1466.75 Q96.7095 1462.14 96.7095 1453.42 Q96.7095 1444.67 99.765 1440.08 Q102.844 1435.48 108.654 1435.48 Z\" fill=\"#000000\" fill-rule=\"evenodd\" fill-opacity=\"1\" /><path clip-path=\"url(#clip530)\" d=\"M65.0198 1143.13 Q61.4087 1143.13 59.58 1146.7 Q57.7745 1150.24 57.7745 1157.37 Q57.7745 1164.47 59.58 1168.04 Q61.4087 1171.58 65.0198 1171.58 Q68.6541 1171.58 70.4596 1168.04 Q72.2883 1164.47 72.2883 1157.37 Q72.2883 1150.24 70.4596 1146.7 Q68.6541 1143.13 65.0198 1143.13 M65.0198 1139.43 Q70.83 1139.43 73.8855 1144.03 Q76.9642 1148.62 76.9642 1157.37 Q76.9642 1166.09 73.8855 1170.7 Q70.83 1175.28 65.0198 1175.28 Q59.2097 1175.28 56.131 1170.7 Q53.0754 1166.09 53.0754 1157.37 Q53.0754 1148.62 56.131 1144.03 Q59.2097 1139.43 65.0198 1139.43 Z\" fill=\"#000000\" fill-rule=\"evenodd\" fill-opacity=\"1\" /><path clip-path=\"url(#clip530)\" d=\"M85.1818 1168.73 L90.066 1168.73 L90.066 1174.61 L85.1818 1174.61 L85.1818 1168.73 Z\" fill=\"#000000\" fill-rule=\"evenodd\" fill-opacity=\"1\" /><path clip-path=\"url(#clip530)\" d=\"M104.279 1170.68 L120.598 1170.68 L120.598 1174.61 L98.6539 1174.61 L98.6539 1170.68 Q101.316 1167.92 105.899 1163.29 Q110.506 1158.64 111.686 1157.3 Q113.932 1154.77 114.811 1153.04 Q115.714 1151.28 115.714 1149.59 Q115.714 1146.83 113.77 1145.1 Q111.848 1143.36 108.746 1143.36 Q106.547 1143.36 104.094 1144.13 Q101.663 1144.89 98.8854 1146.44 L98.8854 1141.72 Q101.709 1140.58 104.163 1140.01 Q106.617 1139.43 108.654 1139.43 Q114.024 1139.43 117.219 1142.11 Q120.413 1144.8 120.413 1149.29 Q120.413 1151.42 119.603 1153.34 Q118.816 1155.24 116.709 1157.83 Q116.131 1158.5 113.029 1161.72 Q109.927 1164.91 104.279 1170.68 Z\" fill=\"#000000\" fill-rule=\"evenodd\" fill-opacity=\"1\" /><path clip-path=\"url(#clip530)\" d=\"M62.9365 847.082 Q59.3254 847.082 57.4967 850.647 Q55.6912 854.189 55.6912 861.318 Q55.6912 868.425 57.4967 871.99 Q59.3254 875.531 62.9365 875.531 Q66.5707 875.531 68.3763 871.99 Q70.205 868.425 70.205 861.318 Q70.205 854.189 68.3763 850.647 Q66.5707 847.082 62.9365 847.082 M62.9365 843.379 Q68.7467 843.379 71.8022 847.985 Q74.8809 852.568 74.8809 861.318 Q74.8809 870.045 71.8022 874.652 Q68.7467 879.235 62.9365 879.235 Q57.1264 879.235 54.0477 874.652 Q50.9921 870.045 50.9921 861.318 Q50.9921 852.568 54.0477 847.985 Q57.1264 843.379 62.9365 843.379 Z\" fill=\"#000000\" fill-rule=\"evenodd\" fill-opacity=\"1\" /><path clip-path=\"url(#clip530)\" d=\"M83.0984 872.684 L87.9827 872.684 L87.9827 878.564 L83.0984 878.564 L83.0984 872.684 Z\" fill=\"#000000\" fill-rule=\"evenodd\" fill-opacity=\"1\" /><path clip-path=\"url(#clip530)\" d=\"M111.015 848.078 L99.2095 866.527 L111.015 866.527 L111.015 848.078 M109.788 844.004 L115.668 844.004 L115.668 866.527 L120.598 866.527 L120.598 870.416 L115.668 870.416 L115.668 878.564 L111.015 878.564 L111.015 870.416 L95.4132 870.416 L95.4132 865.902 L109.788 844.004 Z\" fill=\"#000000\" fill-rule=\"evenodd\" fill-opacity=\"1\" /><path clip-path=\"url(#clip530)\" d=\"M63.2606 551.034 Q59.6495 551.034 57.8208 554.599 Q56.0152 558.14 56.0152 565.27 Q56.0152 572.377 57.8208 575.941 Q59.6495 579.483 63.2606 579.483 Q66.8948 579.483 68.7004 575.941 Q70.5291 572.377 70.5291 565.27 Q70.5291 558.14 68.7004 554.599 Q66.8948 551.034 63.2606 551.034 M63.2606 547.33 Q69.0707 547.33 72.1263 551.937 Q75.205 556.52 75.205 565.27 Q75.205 573.997 72.1263 578.603 Q69.0707 583.187 63.2606 583.187 Q57.4504 583.187 54.3717 578.603 Q51.3162 573.997 51.3162 565.27 Q51.3162 556.52 54.3717 551.937 Q57.4504 547.33 63.2606 547.33 Z\" fill=\"#000000\" fill-rule=\"evenodd\" fill-opacity=\"1\" /><path clip-path=\"url(#clip530)\" d=\"M83.4225 576.636 L88.3067 576.636 L88.3067 582.515 L83.4225 582.515 L83.4225 576.636 Z\" fill=\"#000000\" fill-rule=\"evenodd\" fill-opacity=\"1\" /><path clip-path=\"url(#clip530)\" d=\"M109.071 563.372 Q105.922 563.372 104.071 565.525 Q102.242 567.677 102.242 571.427 Q102.242 575.154 104.071 577.33 Q105.922 579.483 109.071 579.483 Q112.219 579.483 114.047 577.33 Q115.899 575.154 115.899 571.427 Q115.899 567.677 114.047 565.525 Q112.219 563.372 109.071 563.372 M118.353 548.719 L118.353 552.978 Q116.594 552.145 114.788 551.705 Q113.006 551.266 111.246 551.266 Q106.617 551.266 104.163 554.391 Q101.733 557.515 101.385 563.835 Q102.751 561.821 104.811 560.756 Q106.871 559.668 109.348 559.668 Q114.557 559.668 117.566 562.84 Q120.598 565.988 120.598 571.427 Q120.598 576.751 117.45 579.969 Q114.302 583.187 109.071 583.187 Q103.075 583.187 99.9039 578.603 Q96.7326 573.997 96.7326 565.27 Q96.7326 557.076 100.621 552.215 Q104.51 547.33 111.061 547.33 Q112.82 547.33 114.603 547.678 Q116.408 548.025 118.353 548.719 Z\" fill=\"#000000\" fill-rule=\"evenodd\" fill-opacity=\"1\" /><path clip-path=\"url(#clip530)\" d=\"M63.5152 254.986 Q59.9041 254.986 58.0754 258.55 Q56.2699 262.092 56.2699 269.222 Q56.2699 276.328 58.0754 279.893 Q59.9041 283.435 63.5152 283.435 Q67.1494 283.435 68.955 279.893 Q70.7837 276.328 70.7837 269.222 Q70.7837 262.092 68.955 258.55 Q67.1494 254.986 63.5152 254.986 M63.5152 251.282 Q69.3254 251.282 72.3809 255.888 Q75.4596 260.472 75.4596 269.222 Q75.4596 277.949 72.3809 282.555 Q69.3254 287.138 63.5152 287.138 Q57.7051 287.138 54.6264 282.555 Q51.5708 277.949 51.5708 269.222 Q51.5708 260.472 54.6264 255.888 Q57.7051 251.282 63.5152 251.282 Z\" fill=\"#000000\" fill-rule=\"evenodd\" fill-opacity=\"1\" /><path clip-path=\"url(#clip530)\" d=\"M83.6771 280.587 L88.5614 280.587 L88.5614 286.467 L83.6771 286.467 L83.6771 280.587 Z\" fill=\"#000000\" fill-rule=\"evenodd\" fill-opacity=\"1\" /><path clip-path=\"url(#clip530)\" d=\"M108.746 270.055 Q105.413 270.055 103.492 271.837 Q101.594 273.62 101.594 276.745 Q101.594 279.87 103.492 281.652 Q105.413 283.435 108.746 283.435 Q112.08 283.435 114.001 281.652 Q115.922 279.847 115.922 276.745 Q115.922 273.62 114.001 271.837 Q112.103 270.055 108.746 270.055 M104.071 268.064 Q101.061 267.324 99.3715 265.263 Q97.7048 263.203 97.7048 260.24 Q97.7048 256.097 100.645 253.689 Q103.608 251.282 108.746 251.282 Q113.908 251.282 116.848 253.689 Q119.788 256.097 119.788 260.24 Q119.788 263.203 118.098 265.263 Q116.432 267.324 113.445 268.064 Q116.825 268.851 118.7 271.143 Q120.598 273.435 120.598 276.745 Q120.598 281.768 117.52 284.453 Q114.464 287.138 108.746 287.138 Q103.029 287.138 99.9502 284.453 Q96.8947 281.768 96.8947 276.745 Q96.8947 273.435 98.7928 271.143 Q100.691 268.851 104.071 268.064 M102.358 260.68 Q102.358 263.365 104.024 264.87 Q105.714 266.375 108.746 266.375 Q111.756 266.375 113.445 264.87 Q115.158 263.365 115.158 260.68 Q115.158 257.995 113.445 256.49 Q111.756 254.986 108.746 254.986 Q105.714 254.986 104.024 256.49 Q102.358 257.995 102.358 260.68 Z\" fill=\"#000000\" fill-rule=\"evenodd\" fill-opacity=\"1\" /><polyline clip-path=\"url(#clip532)\" style=\"stroke:#009af9; stroke-linecap:butt; stroke-linejoin:round; stroke-width:4; stroke-opacity:1; fill:none\" points=\"\n",
       "  218.754,1035.53 448.959,1445.72 679.164,87.9763 909.369,1132.43 1139.57,362.226 1369.78,991.659 1599.98,819.909 1830.19,1255.41 2060.4,871.271 2290.6,156.974 \n",
       "  \n",
       "  \"/>\n",
       "<path clip-path=\"url(#clip530)\" d=\"\n",
       "M1983.1 216.178 L2279.55 216.178 L2279.55 95.2176 L1983.1 95.2176  Z\n",
       "  \" fill=\"#ffffff\" fill-rule=\"evenodd\" fill-opacity=\"1\"/>\n",
       "<polyline clip-path=\"url(#clip530)\" style=\"stroke:#000000; stroke-linecap:butt; stroke-linejoin:round; stroke-width:4; stroke-opacity:1; fill:none\" points=\"\n",
       "  1983.1,216.178 2279.55,216.178 2279.55,95.2176 1983.1,95.2176 1983.1,216.178 \n",
       "  \"/>\n",
       "<polyline clip-path=\"url(#clip530)\" style=\"stroke:#009af9; stroke-linecap:butt; stroke-linejoin:round; stroke-width:4; stroke-opacity:1; fill:none\" points=\"\n",
       "  2007.5,155.698 2153.92,155.698 \n",
       "  \"/>\n",
       "<path clip-path=\"url(#clip530)\" d=\"M2192.16 175.385 Q2190.35 180.015 2188.64 181.427 Q2186.93 182.839 2184.06 182.839 L2180.65 182.839 L2180.65 179.274 L2183.15 179.274 Q2184.91 179.274 2185.89 178.44 Q2186.86 177.607 2188.04 174.505 L2188.8 172.561 L2178.32 147.052 L2182.83 147.052 L2190.93 167.329 L2199.03 147.052 L2203.55 147.052 L2192.16 175.385 Z\" fill=\"#000000\" fill-rule=\"evenodd\" fill-opacity=\"1\" /><path clip-path=\"url(#clip530)\" d=\"M2210.84 169.042 L2218.48 169.042 L2218.48 142.677 L2210.17 144.343 L2210.17 140.084 L2218.43 138.418 L2223.11 138.418 L2223.11 169.042 L2230.75 169.042 L2230.75 172.978 L2210.84 172.978 L2210.84 169.042 Z\" fill=\"#000000\" fill-rule=\"evenodd\" fill-opacity=\"1\" /></svg>\n"
      ]
     },
     "execution_count": 40,
     "metadata": {},
     "output_type": "execute_result"
    }
   ],
   "source": [
    "y = rand(10)\n",
    "plot(y)"
   ]
  },
  {
   "cell_type": "code",
   "execution_count": 41,
   "metadata": {},
   "outputs": [
    {
     "data": {
      "image/svg+xml": [
       "<?xml version=\"1.0\" encoding=\"utf-8\"?>\n",
       "<svg xmlns=\"http://www.w3.org/2000/svg\" xmlns:xlink=\"http://www.w3.org/1999/xlink\" width=\"600\" height=\"400\" viewBox=\"0 0 2400 1600\">\n",
       "<defs>\n",
       "  <clipPath id=\"clip570\">\n",
       "    <rect x=\"0\" y=\"0\" width=\"2400\" height=\"1600\"/>\n",
       "  </clipPath>\n",
       "</defs>\n",
       "<path clip-path=\"url(#clip570)\" d=\"\n",
       "M0 1600 L2400 1600 L2400 0 L0 0  Z\n",
       "  \" fill=\"#ffffff\" fill-rule=\"evenodd\" fill-opacity=\"1\"/>\n",
       "<defs>\n",
       "  <clipPath id=\"clip571\">\n",
       "    <rect x=\"480\" y=\"0\" width=\"1681\" height=\"1600\"/>\n",
       "  </clipPath>\n",
       "</defs>\n",
       "<path clip-path=\"url(#clip570)\" d=\"\n",
       "M140.696 1486.45 L2352.76 1486.45 L2352.76 47.2441 L140.696 47.2441  Z\n",
       "  \" fill=\"#ffffff\" fill-rule=\"evenodd\" fill-opacity=\"1\"/>\n",
       "<defs>\n",
       "  <clipPath id=\"clip572\">\n",
       "    <rect x=\"140\" y=\"47\" width=\"2213\" height=\"1440\"/>\n",
       "  </clipPath>\n",
       "</defs>\n",
       "<polyline clip-path=\"url(#clip572)\" style=\"stroke:#000000; stroke-linecap:butt; stroke-linejoin:round; stroke-width:2; stroke-opacity:0.1; fill:none\" points=\"\n",
       "  411.986,1486.45 411.986,47.2441 \n",
       "  \"/>\n",
       "<polyline clip-path=\"url(#clip572)\" style=\"stroke:#000000; stroke-linecap:butt; stroke-linejoin:round; stroke-width:2; stroke-opacity:0.1; fill:none\" points=\"\n",
       "  829.356,1486.45 829.356,47.2441 \n",
       "  \"/>\n",
       "<polyline clip-path=\"url(#clip572)\" style=\"stroke:#000000; stroke-linecap:butt; stroke-linejoin:round; stroke-width:2; stroke-opacity:0.1; fill:none\" points=\"\n",
       "  1246.73,1486.45 1246.73,47.2441 \n",
       "  \"/>\n",
       "<polyline clip-path=\"url(#clip572)\" style=\"stroke:#000000; stroke-linecap:butt; stroke-linejoin:round; stroke-width:2; stroke-opacity:0.1; fill:none\" points=\"\n",
       "  1664.1,1486.45 1664.1,47.2441 \n",
       "  \"/>\n",
       "<polyline clip-path=\"url(#clip572)\" style=\"stroke:#000000; stroke-linecap:butt; stroke-linejoin:round; stroke-width:2; stroke-opacity:0.1; fill:none\" points=\"\n",
       "  2081.47,1486.45 2081.47,47.2441 \n",
       "  \"/>\n",
       "<polyline clip-path=\"url(#clip570)\" style=\"stroke:#000000; stroke-linecap:butt; stroke-linejoin:round; stroke-width:4; stroke-opacity:1; fill:none\" points=\"\n",
       "  140.696,1486.45 2352.76,1486.45 \n",
       "  \"/>\n",
       "<polyline clip-path=\"url(#clip570)\" style=\"stroke:#000000; stroke-linecap:butt; stroke-linejoin:round; stroke-width:4; stroke-opacity:1; fill:none\" points=\"\n",
       "  411.986,1486.45 411.986,1469.18 \n",
       "  \"/>\n",
       "<polyline clip-path=\"url(#clip570)\" style=\"stroke:#000000; stroke-linecap:butt; stroke-linejoin:round; stroke-width:4; stroke-opacity:1; fill:none\" points=\"\n",
       "  829.356,1486.45 829.356,1469.18 \n",
       "  \"/>\n",
       "<polyline clip-path=\"url(#clip570)\" style=\"stroke:#000000; stroke-linecap:butt; stroke-linejoin:round; stroke-width:4; stroke-opacity:1; fill:none\" points=\"\n",
       "  1246.73,1486.45 1246.73,1469.18 \n",
       "  \"/>\n",
       "<polyline clip-path=\"url(#clip570)\" style=\"stroke:#000000; stroke-linecap:butt; stroke-linejoin:round; stroke-width:4; stroke-opacity:1; fill:none\" points=\"\n",
       "  1664.1,1486.45 1664.1,1469.18 \n",
       "  \"/>\n",
       "<polyline clip-path=\"url(#clip570)\" style=\"stroke:#000000; stroke-linecap:butt; stroke-linejoin:round; stroke-width:4; stroke-opacity:1; fill:none\" points=\"\n",
       "  2081.47,1486.45 2081.47,1469.18 \n",
       "  \"/>\n",
       "<path clip-path=\"url(#clip570)\" d=\"M380.887 1530.29 L410.562 1530.29 L410.562 1534.23 L380.887 1534.23 L380.887 1530.29 Z\" fill=\"#000000\" fill-rule=\"evenodd\" fill-opacity=\"1\" /><path clip-path=\"url(#clip570)\" d=\"M433.502 1516.63 L421.697 1535.08 L433.502 1535.08 L433.502 1516.63 M432.275 1512.56 L438.155 1512.56 L438.155 1535.08 L443.085 1535.08 L443.085 1538.97 L438.155 1538.97 L438.155 1547.12 L433.502 1547.12 L433.502 1538.97 L417.9 1538.97 L417.9 1534.46 L432.275 1512.56 Z\" fill=\"#000000\" fill-rule=\"evenodd\" fill-opacity=\"1\" /><path clip-path=\"url(#clip570)\" d=\"M799.298 1530.29 L828.974 1530.29 L828.974 1534.23 L799.298 1534.23 L799.298 1530.29 Z\" fill=\"#000000\" fill-rule=\"evenodd\" fill-opacity=\"1\" /><path clip-path=\"url(#clip570)\" d=\"M843.094 1543.18 L859.414 1543.18 L859.414 1547.12 L837.469 1547.12 L837.469 1543.18 Q840.131 1540.43 844.715 1535.8 Q849.321 1531.15 850.502 1529.81 Q852.747 1527.28 853.627 1525.55 Q854.529 1523.79 854.529 1522.1 Q854.529 1519.34 852.585 1517.61 Q850.664 1515.87 847.562 1515.87 Q845.363 1515.87 842.909 1516.63 Q840.478 1517.4 837.701 1518.95 L837.701 1514.23 Q840.525 1513.09 842.978 1512.51 Q845.432 1511.93 847.469 1511.93 Q852.84 1511.93 856.034 1514.62 Q859.228 1517.31 859.228 1521.8 Q859.228 1523.93 858.418 1525.85 Q857.631 1527.74 855.525 1530.34 Q854.946 1531.01 851.844 1534.23 Q848.742 1537.42 843.094 1543.18 Z\" fill=\"#000000\" fill-rule=\"evenodd\" fill-opacity=\"1\" /><path clip-path=\"url(#clip570)\" d=\"M1246.73 1515.64 Q1243.11 1515.64 1241.29 1519.2 Q1239.48 1522.75 1239.48 1529.87 Q1239.48 1536.98 1241.29 1540.55 Q1243.11 1544.09 1246.73 1544.09 Q1250.36 1544.09 1252.17 1540.55 Q1253.99 1536.98 1253.99 1529.87 Q1253.99 1522.75 1252.17 1519.2 Q1250.36 1515.64 1246.73 1515.64 M1246.73 1511.93 Q1252.54 1511.93 1255.59 1516.54 Q1258.67 1521.12 1258.67 1529.87 Q1258.67 1538.6 1255.59 1543.21 Q1252.54 1547.79 1246.73 1547.79 Q1240.92 1547.79 1237.84 1543.21 Q1234.78 1538.6 1234.78 1529.87 Q1234.78 1521.12 1237.84 1516.54 Q1240.92 1511.93 1246.73 1511.93 Z\" fill=\"#000000\" fill-rule=\"evenodd\" fill-opacity=\"1\" /><path clip-path=\"url(#clip570)\" d=\"M1658.75 1543.18 L1675.07 1543.18 L1675.07 1547.12 L1653.12 1547.12 L1653.12 1543.18 Q1655.79 1540.43 1660.37 1535.8 Q1664.98 1531.15 1666.16 1529.81 Q1668.4 1527.28 1669.28 1525.55 Q1670.18 1523.79 1670.18 1522.1 Q1670.18 1519.34 1668.24 1517.61 Q1666.32 1515.87 1663.22 1515.87 Q1661.02 1515.87 1658.56 1516.63 Q1656.13 1517.4 1653.35 1518.95 L1653.35 1514.23 Q1656.18 1513.09 1658.63 1512.51 Q1661.09 1511.93 1663.12 1511.93 Q1668.49 1511.93 1671.69 1514.62 Q1674.88 1517.31 1674.88 1521.8 Q1674.88 1523.93 1674.07 1525.85 Q1673.29 1527.74 1671.18 1530.34 Q1670.6 1531.01 1667.5 1534.23 Q1664.4 1537.42 1658.75 1543.18 Z\" fill=\"#000000\" fill-rule=\"evenodd\" fill-opacity=\"1\" /><path clip-path=\"url(#clip570)\" d=\"M2084.47 1516.63 L2072.67 1535.08 L2084.47 1535.08 L2084.47 1516.63 M2083.25 1512.56 L2089.13 1512.56 L2089.13 1535.08 L2094.06 1535.08 L2094.06 1538.97 L2089.13 1538.97 L2089.13 1547.12 L2084.47 1547.12 L2084.47 1538.97 L2068.87 1538.97 L2068.87 1534.46 L2083.25 1512.56 Z\" fill=\"#000000\" fill-rule=\"evenodd\" fill-opacity=\"1\" /><polyline clip-path=\"url(#clip572)\" style=\"stroke:#000000; stroke-linecap:butt; stroke-linejoin:round; stroke-width:2; stroke-opacity:0.1; fill:none\" points=\"\n",
       "  140.696,1445.75 2352.76,1445.75 \n",
       "  \"/>\n",
       "<polyline clip-path=\"url(#clip572)\" style=\"stroke:#000000; stroke-linecap:butt; stroke-linejoin:round; stroke-width:2; stroke-opacity:0.1; fill:none\" points=\"\n",
       "  140.696,1174.19 2352.76,1174.19 \n",
       "  \"/>\n",
       "<polyline clip-path=\"url(#clip572)\" style=\"stroke:#000000; stroke-linecap:butt; stroke-linejoin:round; stroke-width:2; stroke-opacity:0.1; fill:none\" points=\"\n",
       "  140.696,902.64 2352.76,902.64 \n",
       "  \"/>\n",
       "<polyline clip-path=\"url(#clip572)\" style=\"stroke:#000000; stroke-linecap:butt; stroke-linejoin:round; stroke-width:2; stroke-opacity:0.1; fill:none\" points=\"\n",
       "  140.696,631.085 2352.76,631.085 \n",
       "  \"/>\n",
       "<polyline clip-path=\"url(#clip572)\" style=\"stroke:#000000; stroke-linecap:butt; stroke-linejoin:round; stroke-width:2; stroke-opacity:0.1; fill:none\" points=\"\n",
       "  140.696,359.531 2352.76,359.531 \n",
       "  \"/>\n",
       "<polyline clip-path=\"url(#clip572)\" style=\"stroke:#000000; stroke-linecap:butt; stroke-linejoin:round; stroke-width:2; stroke-opacity:0.1; fill:none\" points=\"\n",
       "  140.696,87.9763 2352.76,87.9763 \n",
       "  \"/>\n",
       "<polyline clip-path=\"url(#clip570)\" style=\"stroke:#000000; stroke-linecap:butt; stroke-linejoin:round; stroke-width:4; stroke-opacity:1; fill:none\" points=\"\n",
       "  140.696,1486.45 140.696,47.2441 \n",
       "  \"/>\n",
       "<polyline clip-path=\"url(#clip570)\" style=\"stroke:#000000; stroke-linecap:butt; stroke-linejoin:round; stroke-width:4; stroke-opacity:1; fill:none\" points=\"\n",
       "  140.696,1445.75 167.24,1445.75 \n",
       "  \"/>\n",
       "<polyline clip-path=\"url(#clip570)\" style=\"stroke:#000000; stroke-linecap:butt; stroke-linejoin:round; stroke-width:4; stroke-opacity:1; fill:none\" points=\"\n",
       "  140.696,1174.19 167.24,1174.19 \n",
       "  \"/>\n",
       "<polyline clip-path=\"url(#clip570)\" style=\"stroke:#000000; stroke-linecap:butt; stroke-linejoin:round; stroke-width:4; stroke-opacity:1; fill:none\" points=\"\n",
       "  140.696,902.64 167.24,902.64 \n",
       "  \"/>\n",
       "<polyline clip-path=\"url(#clip570)\" style=\"stroke:#000000; stroke-linecap:butt; stroke-linejoin:round; stroke-width:4; stroke-opacity:1; fill:none\" points=\"\n",
       "  140.696,631.085 167.24,631.085 \n",
       "  \"/>\n",
       "<polyline clip-path=\"url(#clip570)\" style=\"stroke:#000000; stroke-linecap:butt; stroke-linejoin:round; stroke-width:4; stroke-opacity:1; fill:none\" points=\"\n",
       "  140.696,359.531 167.24,359.531 \n",
       "  \"/>\n",
       "<polyline clip-path=\"url(#clip570)\" style=\"stroke:#000000; stroke-linecap:butt; stroke-linejoin:round; stroke-width:4; stroke-opacity:1; fill:none\" points=\"\n",
       "  140.696,87.9763 167.24,87.9763 \n",
       "  \"/>\n",
       "<path clip-path=\"url(#clip570)\" d=\"M92.7512 1431.55 Q89.1401 1431.55 87.3114 1435.11 Q85.5058 1438.65 85.5058 1445.78 Q85.5058 1452.89 87.3114 1456.45 Q89.1401 1460 92.7512 1460 Q96.3854 1460 98.1909 1456.45 Q100.02 1452.89 100.02 1445.78 Q100.02 1438.65 98.1909 1435.11 Q96.3854 1431.55 92.7512 1431.55 M92.7512 1427.84 Q98.5613 1427.84 101.617 1432.45 Q104.696 1437.03 104.696 1445.78 Q104.696 1454.51 101.617 1459.12 Q98.5613 1463.7 92.7512 1463.7 Q86.941 1463.7 83.8623 1459.12 Q80.8068 1454.51 80.8068 1445.78 Q80.8068 1437.03 83.8623 1432.45 Q86.941 1427.84 92.7512 1427.84 Z\" fill=\"#000000\" fill-rule=\"evenodd\" fill-opacity=\"1\" /><path clip-path=\"url(#clip570)\" d=\"M83.7929 1156.91 L102.149 1156.91 L102.149 1160.85 L88.0753 1160.85 L88.0753 1169.32 Q89.0938 1168.97 90.1123 1168.81 Q91.1308 1168.63 92.1493 1168.63 Q97.9363 1168.63 101.316 1171.8 Q104.696 1174.97 104.696 1180.39 Q104.696 1185.97 101.223 1189.07 Q97.7511 1192.15 91.4317 1192.15 Q89.2558 1192.15 86.9873 1191.78 Q84.7419 1191.4 82.3346 1190.66 L82.3346 1185.97 Q84.4179 1187.1 86.6401 1187.65 Q88.8623 1188.21 91.3391 1188.21 Q95.3437 1188.21 97.6817 1186.1 Q100.02 1184 100.02 1180.39 Q100.02 1176.78 97.6817 1174.67 Q95.3437 1172.56 91.3391 1172.56 Q89.4641 1172.56 87.5892 1172.98 Q85.7373 1173.4 83.7929 1174.28 L83.7929 1156.91 Z\" fill=\"#000000\" fill-rule=\"evenodd\" fill-opacity=\"1\" /><path clip-path=\"url(#clip570)\" d=\"M53.3995 915.985 L61.0384 915.985 L61.0384 889.619 L52.7282 891.286 L52.7282 887.026 L60.9921 885.36 L65.668 885.36 L65.668 915.985 L73.3068 915.985 L73.3068 919.92 L53.3995 919.92 L53.3995 915.985 Z\" fill=\"#000000\" fill-rule=\"evenodd\" fill-opacity=\"1\" /><path clip-path=\"url(#clip570)\" d=\"M92.7512 888.438 Q89.1401 888.438 87.3114 892.003 Q85.5058 895.545 85.5058 902.674 Q85.5058 909.781 87.3114 913.346 Q89.1401 916.887 92.7512 916.887 Q96.3854 916.887 98.1909 913.346 Q100.02 909.781 100.02 902.674 Q100.02 895.545 98.1909 892.003 Q96.3854 888.438 92.7512 888.438 M92.7512 884.735 Q98.5613 884.735 101.617 889.341 Q104.696 893.925 104.696 902.674 Q104.696 911.401 101.617 916.008 Q98.5613 920.591 92.7512 920.591 Q86.941 920.591 83.8623 916.008 Q80.8068 911.401 80.8068 902.674 Q80.8068 893.925 83.8623 889.341 Q86.941 884.735 92.7512 884.735 Z\" fill=\"#000000\" fill-rule=\"evenodd\" fill-opacity=\"1\" /><path clip-path=\"url(#clip570)\" d=\"M54.3949 644.43 L62.0337 644.43 L62.0337 618.065 L53.7236 619.731 L53.7236 615.472 L61.9874 613.805 L66.6633 613.805 L66.6633 644.43 L74.3022 644.43 L74.3022 648.365 L54.3949 648.365 L54.3949 644.43 Z\" fill=\"#000000\" fill-rule=\"evenodd\" fill-opacity=\"1\" /><path clip-path=\"url(#clip570)\" d=\"M83.7929 613.805 L102.149 613.805 L102.149 617.74 L88.0753 617.74 L88.0753 626.213 Q89.0938 625.865 90.1123 625.703 Q91.1308 625.518 92.1493 625.518 Q97.9363 625.518 101.316 628.689 Q104.696 631.861 104.696 637.277 Q104.696 642.856 101.223 645.958 Q97.7511 649.037 91.4317 649.037 Q89.2558 649.037 86.9873 648.666 Q84.7419 648.296 82.3346 647.555 L82.3346 642.856 Q84.4179 643.99 86.6401 644.546 Q88.8623 645.101 91.3391 645.101 Q95.3437 645.101 97.6817 642.995 Q100.02 640.888 100.02 637.277 Q100.02 633.666 97.6817 631.56 Q95.3437 629.453 91.3391 629.453 Q89.4641 629.453 87.5892 629.87 Q85.7373 630.287 83.7929 631.166 L83.7929 613.805 Z\" fill=\"#000000\" fill-rule=\"evenodd\" fill-opacity=\"1\" /><path clip-path=\"url(#clip570)\" d=\"M56.6171 372.876 L72.9365 372.876 L72.9365 376.811 L50.9921 376.811 L50.9921 372.876 Q53.6541 370.121 58.2375 365.491 Q62.8439 360.839 64.0245 359.496 Q66.2698 356.973 67.1494 355.237 Q68.0522 353.478 68.0522 351.788 Q68.0522 349.033 66.1078 347.297 Q64.1865 345.561 61.0847 345.561 Q58.8856 345.561 56.4319 346.325 Q54.0014 347.089 51.2236 348.64 L51.2236 343.917 Q54.0477 342.783 56.5014 342.204 Q58.955 341.626 60.9921 341.626 Q66.3624 341.626 69.5568 344.311 Q72.7513 346.996 72.7513 351.487 Q72.7513 353.616 71.9411 355.538 Q71.1541 357.436 69.0476 360.028 Q68.4689 360.7 65.367 363.917 Q62.2652 367.112 56.6171 372.876 Z\" fill=\"#000000\" fill-rule=\"evenodd\" fill-opacity=\"1\" /><path clip-path=\"url(#clip570)\" d=\"M92.7512 345.329 Q89.1401 345.329 87.3114 348.894 Q85.5058 352.436 85.5058 359.565 Q85.5058 366.672 87.3114 370.237 Q89.1401 373.778 92.7512 373.778 Q96.3854 373.778 98.1909 370.237 Q100.02 366.672 100.02 359.565 Q100.02 352.436 98.1909 348.894 Q96.3854 345.329 92.7512 345.329 M92.7512 341.626 Q98.5613 341.626 101.617 346.232 Q104.696 350.816 104.696 359.565 Q104.696 368.292 101.617 372.899 Q98.5613 377.482 92.7512 377.482 Q86.941 377.482 83.8623 372.899 Q80.8068 368.292 80.8068 359.565 Q80.8068 350.816 83.8623 346.232 Q86.941 341.626 92.7512 341.626 Z\" fill=\"#000000\" fill-rule=\"evenodd\" fill-opacity=\"1\" /><path clip-path=\"url(#clip570)\" d=\"M57.6125 101.321 L73.9318 101.321 L73.9318 105.256 L51.9875 105.256 L51.9875 101.321 Q54.6495 98.5665 59.2328 93.9369 Q63.8393 89.2841 65.0198 87.9416 Q67.2652 85.4184 68.1448 83.6823 Q69.0476 81.9231 69.0476 80.2333 Q69.0476 77.4786 67.1032 75.7425 Q65.1819 74.0064 62.08 74.0064 Q59.881 74.0064 57.4273 74.7703 Q54.9967 75.5342 52.219 77.0851 L52.219 72.3629 Q55.043 71.2287 57.4967 70.65 Q59.9504 70.0713 61.9874 70.0713 Q67.3578 70.0713 70.5522 72.7565 Q73.7466 75.4416 73.7466 79.9323 Q73.7466 82.062 72.9365 83.9832 Q72.1494 85.8814 70.0429 88.474 Q69.4642 89.1453 66.3624 92.3628 Q63.2606 95.5573 57.6125 101.321 Z\" fill=\"#000000\" fill-rule=\"evenodd\" fill-opacity=\"1\" /><path clip-path=\"url(#clip570)\" d=\"M83.7929 70.6963 L102.149 70.6963 L102.149 74.6314 L88.0753 74.6314 L88.0753 83.1036 Q89.0938 82.7564 90.1123 82.5944 Q91.1308 82.4092 92.1493 82.4092 Q97.9363 82.4092 101.316 85.5805 Q104.696 88.7517 104.696 94.1684 Q104.696 99.747 101.223 102.849 Q97.7511 105.928 91.4317 105.928 Q89.2558 105.928 86.9873 105.557 Q84.7419 105.187 82.3346 104.446 L82.3346 99.747 Q84.4179 100.881 86.6401 101.437 Q88.8623 101.992 91.3391 101.992 Q95.3437 101.992 97.6817 99.8859 Q100.02 97.7795 100.02 94.1684 Q100.02 90.5573 97.6817 88.4508 Q95.3437 86.3443 91.3391 86.3443 Q89.4641 86.3443 87.5892 86.761 Q85.7373 87.1777 83.7929 88.0573 L83.7929 70.6963 Z\" fill=\"#000000\" fill-rule=\"evenodd\" fill-opacity=\"1\" /><polyline clip-path=\"url(#clip572)\" style=\"stroke:#009af9; stroke-linecap:butt; stroke-linejoin:round; stroke-width:4; stroke-opacity:1; fill:none\" points=\"\n",
       "  203.301,87.9763 213.491,114.366 223.681,140.497 317.901,369.848 412.121,577.056 468.744,690.928 525.366,796.803 573.24,880.081 621.114,957.642 673.118,1035.42 \n",
       "  725.122,1106.45 773.065,1165.95 821.008,1219.73 872.408,1271.01 923.809,1315.71 983.361,1359.25 1042.91,1393.94 1095.84,1417.35 1148.76,1433.78 1195.17,1442.43 \n",
       "  1241.58,1445.72 1292.17,1443.17 1342.77,1434.24 1393.67,1418.82 1444.57,1396.93 1500.84,1365.22 1557.12,1325.6 1610.66,1280.57 1664.21,1228.39 1719.88,1166.55 \n",
       "  1775.55,1096.98 1822.42,1032.43 1869.28,962.394 1926.5,869.465 1983.72,768.37 2037.5,665.892 2091.29,556.198 2177.46,365.421 2263.63,156.123 2276.89,122.269 \n",
       "  2290.15,87.9763 \n",
       "  \"/>\n",
       "<path clip-path=\"url(#clip570)\" d=\"\n",
       "M1980.81 216.178 L2279.02 216.178 L2279.02 95.2176 L1980.81 95.2176  Z\n",
       "  \" fill=\"#ffffff\" fill-rule=\"evenodd\" fill-opacity=\"1\"/>\n",
       "<polyline clip-path=\"url(#clip570)\" style=\"stroke:#000000; stroke-linecap:butt; stroke-linejoin:round; stroke-width:4; stroke-opacity:1; fill:none\" points=\"\n",
       "  1980.81,216.178 2279.02,216.178 2279.02,95.2176 1980.81,95.2176 1980.81,216.178 \n",
       "  \"/>\n",
       "<polyline clip-path=\"url(#clip570)\" style=\"stroke:#009af9; stroke-linecap:butt; stroke-linejoin:round; stroke-width:4; stroke-opacity:1; fill:none\" points=\"\n",
       "  2005.38,155.698 2152.85,155.698 \n",
       "  \"/>\n",
       "<path clip-path=\"url(#clip570)\" d=\"M2191.28 175.385 Q2189.47 180.015 2187.76 181.427 Q2186.04 182.839 2183.17 182.839 L2179.77 182.839 L2179.77 179.274 L2182.27 179.274 Q2184.03 179.274 2185 178.44 Q2185.98 177.607 2187.16 174.505 L2187.92 172.561 L2177.43 147.052 L2181.95 147.052 L2190.05 167.329 L2198.15 147.052 L2202.66 147.052 L2191.28 175.385 Z\" fill=\"#000000\" fill-rule=\"evenodd\" fill-opacity=\"1\" /><path clip-path=\"url(#clip570)\" d=\"M2209.96 169.042 L2217.6 169.042 L2217.6 142.677 L2209.29 144.343 L2209.29 140.084 L2217.55 138.418 L2222.22 138.418 L2222.22 169.042 L2229.86 169.042 L2229.86 172.978 L2209.96 172.978 L2209.96 169.042 Z\" fill=\"#000000\" fill-rule=\"evenodd\" fill-opacity=\"1\" /></svg>\n"
      ]
     },
     "execution_count": 41,
     "metadata": {},
     "output_type": "execute_result"
    }
   ],
   "source": [
    "z(x) = x^2\n",
    "plot(z)"
   ]
  },
  {
   "cell_type": "code",
   "execution_count": 44,
   "metadata": {},
   "outputs": [],
   "source": [
    "Pkg.build(\"IJulia\")"
   ]
  },
  {
   "cell_type": "code",
   "execution_count": 45,
   "metadata": {},
   "outputs": [
    {
     "data": {
      "image/svg+xml": [
       "<?xml version=\"1.0\" encoding=\"utf-8\"?>\n",
       "<svg xmlns=\"http://www.w3.org/2000/svg\" xmlns:xlink=\"http://www.w3.org/1999/xlink\" width=\"600\" height=\"400\" viewBox=\"0 0 2400 1600\">\n",
       "<defs>\n",
       "  <clipPath id=\"clip630\">\n",
       "    <rect x=\"0\" y=\"0\" width=\"2400\" height=\"1600\"/>\n",
       "  </clipPath>\n",
       "</defs>\n",
       "<path clip-path=\"url(#clip630)\" d=\"\n",
       "M0 1600 L2400 1600 L2400 0 L0 0  Z\n",
       "  \" fill=\"#ffffff\" fill-rule=\"evenodd\" fill-opacity=\"1\"/>\n",
       "<defs>\n",
       "  <clipPath id=\"clip631\">\n",
       "    <rect x=\"480\" y=\"0\" width=\"1681\" height=\"1600\"/>\n",
       "  </clipPath>\n",
       "</defs>\n",
       "<path clip-path=\"url(#clip630)\" d=\"\n",
       "M156.598 1486.45 L2352.76 1486.45 L2352.76 47.2441 L156.598 47.2441  Z\n",
       "  \" fill=\"#ffffff\" fill-rule=\"evenodd\" fill-opacity=\"1\"/>\n",
       "<defs>\n",
       "  <clipPath id=\"clip632\">\n",
       "    <rect x=\"156\" y=\"47\" width=\"2197\" height=\"1440\"/>\n",
       "  </clipPath>\n",
       "</defs>\n",
       "<polyline clip-path=\"url(#clip632)\" style=\"stroke:#000000; stroke-linecap:butt; stroke-linejoin:round; stroke-width:2; stroke-opacity:0.1; fill:none\" points=\"\n",
       "  448.959,1486.45 448.959,47.2441 \n",
       "  \"/>\n",
       "<polyline clip-path=\"url(#clip632)\" style=\"stroke:#000000; stroke-linecap:butt; stroke-linejoin:round; stroke-width:2; stroke-opacity:0.1; fill:none\" points=\"\n",
       "  909.369,1486.45 909.369,47.2441 \n",
       "  \"/>\n",
       "<polyline clip-path=\"url(#clip632)\" style=\"stroke:#000000; stroke-linecap:butt; stroke-linejoin:round; stroke-width:2; stroke-opacity:0.1; fill:none\" points=\"\n",
       "  1369.78,1486.45 1369.78,47.2441 \n",
       "  \"/>\n",
       "<polyline clip-path=\"url(#clip632)\" style=\"stroke:#000000; stroke-linecap:butt; stroke-linejoin:round; stroke-width:2; stroke-opacity:0.1; fill:none\" points=\"\n",
       "  1830.19,1486.45 1830.19,47.2441 \n",
       "  \"/>\n",
       "<polyline clip-path=\"url(#clip632)\" style=\"stroke:#000000; stroke-linecap:butt; stroke-linejoin:round; stroke-width:2; stroke-opacity:0.1; fill:none\" points=\"\n",
       "  2290.6,1486.45 2290.6,47.2441 \n",
       "  \"/>\n",
       "<polyline clip-path=\"url(#clip630)\" style=\"stroke:#000000; stroke-linecap:butt; stroke-linejoin:round; stroke-width:4; stroke-opacity:1; fill:none\" points=\"\n",
       "  156.598,1486.45 2352.76,1486.45 \n",
       "  \"/>\n",
       "<polyline clip-path=\"url(#clip630)\" style=\"stroke:#000000; stroke-linecap:butt; stroke-linejoin:round; stroke-width:4; stroke-opacity:1; fill:none\" points=\"\n",
       "  448.959,1486.45 448.959,1469.18 \n",
       "  \"/>\n",
       "<polyline clip-path=\"url(#clip630)\" style=\"stroke:#000000; stroke-linecap:butt; stroke-linejoin:round; stroke-width:4; stroke-opacity:1; fill:none\" points=\"\n",
       "  909.369,1486.45 909.369,1469.18 \n",
       "  \"/>\n",
       "<polyline clip-path=\"url(#clip630)\" style=\"stroke:#000000; stroke-linecap:butt; stroke-linejoin:round; stroke-width:4; stroke-opacity:1; fill:none\" points=\"\n",
       "  1369.78,1486.45 1369.78,1469.18 \n",
       "  \"/>\n",
       "<polyline clip-path=\"url(#clip630)\" style=\"stroke:#000000; stroke-linecap:butt; stroke-linejoin:round; stroke-width:4; stroke-opacity:1; fill:none\" points=\"\n",
       "  1830.19,1486.45 1830.19,1469.18 \n",
       "  \"/>\n",
       "<polyline clip-path=\"url(#clip630)\" style=\"stroke:#000000; stroke-linecap:butt; stroke-linejoin:round; stroke-width:4; stroke-opacity:1; fill:none\" points=\"\n",
       "  2290.6,1486.45 2290.6,1469.18 \n",
       "  \"/>\n",
       "<path clip-path=\"url(#clip630)\" d=\"M443.612 1543.18 L459.931 1543.18 L459.931 1547.12 L437.987 1547.12 L437.987 1543.18 Q440.649 1540.43 445.232 1535.8 Q449.838 1531.15 451.019 1529.81 Q453.264 1527.28 454.144 1525.55 Q455.047 1523.79 455.047 1522.1 Q455.047 1519.34 453.102 1517.61 Q451.181 1515.87 448.079 1515.87 Q445.88 1515.87 443.426 1516.63 Q440.996 1517.4 438.218 1518.95 L438.218 1514.23 Q441.042 1513.09 443.496 1512.51 Q445.95 1511.93 447.987 1511.93 Q453.357 1511.93 456.551 1514.62 Q459.746 1517.31 459.746 1521.8 Q459.746 1523.93 458.936 1525.85 Q458.149 1527.74 456.042 1530.34 Q455.463 1531.01 452.362 1534.23 Q449.26 1537.42 443.612 1543.18 Z\" fill=\"#000000\" fill-rule=\"evenodd\" fill-opacity=\"1\" /><path clip-path=\"url(#clip630)\" d=\"M912.379 1516.63 L900.573 1535.08 L912.379 1535.08 L912.379 1516.63 M911.152 1512.56 L917.031 1512.56 L917.031 1535.08 L921.962 1535.08 L921.962 1538.97 L917.031 1538.97 L917.031 1547.12 L912.379 1547.12 L912.379 1538.97 L896.777 1538.97 L896.777 1534.46 L911.152 1512.56 Z\" fill=\"#000000\" fill-rule=\"evenodd\" fill-opacity=\"1\" /><path clip-path=\"url(#clip630)\" d=\"M1370.18 1527.98 Q1367.04 1527.98 1365.18 1530.13 Q1363.36 1532.28 1363.36 1536.03 Q1363.36 1539.76 1365.18 1541.93 Q1367.04 1544.09 1370.18 1544.09 Q1373.33 1544.09 1375.16 1541.93 Q1377.01 1539.76 1377.01 1536.03 Q1377.01 1532.28 1375.16 1530.13 Q1373.33 1527.98 1370.18 1527.98 M1379.47 1513.32 L1379.47 1517.58 Q1377.71 1516.75 1375.9 1516.31 Q1374.12 1515.87 1372.36 1515.87 Q1367.73 1515.87 1365.28 1519 Q1362.85 1522.12 1362.5 1528.44 Q1363.87 1526.43 1365.93 1525.36 Q1367.99 1524.27 1370.46 1524.27 Q1375.67 1524.27 1378.68 1527.44 Q1381.71 1530.59 1381.71 1536.03 Q1381.71 1541.36 1378.56 1544.57 Q1375.42 1547.79 1370.18 1547.79 Q1364.19 1547.79 1361.02 1543.21 Q1357.85 1538.6 1357.85 1529.87 Q1357.85 1521.68 1361.74 1516.82 Q1365.62 1511.93 1372.18 1511.93 Q1373.93 1511.93 1375.72 1512.28 Q1377.52 1512.63 1379.47 1513.32 Z\" fill=\"#000000\" fill-rule=\"evenodd\" fill-opacity=\"1\" /><path clip-path=\"url(#clip630)\" d=\"M1830.19 1530.71 Q1826.86 1530.71 1824.94 1532.49 Q1823.04 1534.27 1823.04 1537.4 Q1823.04 1540.52 1824.94 1542.31 Q1826.86 1544.09 1830.19 1544.09 Q1833.52 1544.09 1835.44 1542.31 Q1837.37 1540.5 1837.37 1537.4 Q1837.37 1534.27 1835.44 1532.49 Q1833.55 1530.71 1830.19 1530.71 M1825.51 1528.72 Q1822.5 1527.98 1820.82 1525.92 Q1819.15 1523.86 1819.15 1520.89 Q1819.15 1516.75 1822.09 1514.34 Q1825.05 1511.93 1830.19 1511.93 Q1835.35 1511.93 1838.29 1514.34 Q1841.23 1516.75 1841.23 1520.89 Q1841.23 1523.86 1839.54 1525.92 Q1837.88 1527.98 1834.89 1528.72 Q1838.27 1529.5 1840.14 1531.8 Q1842.04 1534.09 1842.04 1537.4 Q1842.04 1542.42 1838.96 1545.11 Q1835.91 1547.79 1830.19 1547.79 Q1824.47 1547.79 1821.39 1545.11 Q1818.34 1542.42 1818.34 1537.4 Q1818.34 1534.09 1820.24 1531.8 Q1822.13 1529.5 1825.51 1528.72 M1823.8 1521.33 Q1823.8 1524.02 1825.47 1525.52 Q1827.16 1527.03 1830.19 1527.03 Q1833.2 1527.03 1834.89 1525.52 Q1836.6 1524.02 1836.6 1521.33 Q1836.6 1518.65 1834.89 1517.14 Q1833.2 1515.64 1830.19 1515.64 Q1827.16 1515.64 1825.47 1517.14 Q1823.8 1518.65 1823.8 1521.33 Z\" fill=\"#000000\" fill-rule=\"evenodd\" fill-opacity=\"1\" /><path clip-path=\"url(#clip630)\" d=\"M2265.29 1543.18 L2272.93 1543.18 L2272.93 1516.82 L2264.62 1518.49 L2264.62 1514.23 L2272.88 1512.56 L2277.56 1512.56 L2277.56 1543.18 L2285.2 1543.18 L2285.2 1547.12 L2265.29 1547.12 L2265.29 1543.18 Z\" fill=\"#000000\" fill-rule=\"evenodd\" fill-opacity=\"1\" /><path clip-path=\"url(#clip630)\" d=\"M2304.64 1515.64 Q2301.03 1515.64 2299.2 1519.2 Q2297.39 1522.75 2297.39 1529.87 Q2297.39 1536.98 2299.2 1540.55 Q2301.03 1544.09 2304.64 1544.09 Q2308.27 1544.09 2310.08 1540.55 Q2311.91 1536.98 2311.91 1529.87 Q2311.91 1522.75 2310.08 1519.2 Q2308.27 1515.64 2304.64 1515.64 M2304.64 1511.93 Q2310.45 1511.93 2313.51 1516.54 Q2316.58 1521.12 2316.58 1529.87 Q2316.58 1538.6 2313.51 1543.21 Q2310.45 1547.79 2304.64 1547.79 Q2298.83 1547.79 2295.75 1543.21 Q2292.7 1538.6 2292.7 1529.87 Q2292.7 1521.12 2295.75 1516.54 Q2298.83 1511.93 2304.64 1511.93 Z\" fill=\"#000000\" fill-rule=\"evenodd\" fill-opacity=\"1\" /><polyline clip-path=\"url(#clip632)\" style=\"stroke:#000000; stroke-linecap:butt; stroke-linejoin:round; stroke-width:2; stroke-opacity:0.1; fill:none\" points=\"\n",
       "  156.598,1287.28 2352.76,1287.28 \n",
       "  \"/>\n",
       "<polyline clip-path=\"url(#clip632)\" style=\"stroke:#000000; stroke-linecap:butt; stroke-linejoin:round; stroke-width:2; stroke-opacity:0.1; fill:none\" points=\"\n",
       "  156.598,945.844 2352.76,945.844 \n",
       "  \"/>\n",
       "<polyline clip-path=\"url(#clip632)\" style=\"stroke:#000000; stroke-linecap:butt; stroke-linejoin:round; stroke-width:2; stroke-opacity:0.1; fill:none\" points=\"\n",
       "  156.598,604.404 2352.76,604.404 \n",
       "  \"/>\n",
       "<polyline clip-path=\"url(#clip632)\" style=\"stroke:#000000; stroke-linecap:butt; stroke-linejoin:round; stroke-width:2; stroke-opacity:0.1; fill:none\" points=\"\n",
       "  156.598,262.965 2352.76,262.965 \n",
       "  \"/>\n",
       "<polyline clip-path=\"url(#clip630)\" style=\"stroke:#000000; stroke-linecap:butt; stroke-linejoin:round; stroke-width:4; stroke-opacity:1; fill:none\" points=\"\n",
       "  156.598,1486.45 156.598,47.2441 \n",
       "  \"/>\n",
       "<polyline clip-path=\"url(#clip630)\" style=\"stroke:#000000; stroke-linecap:butt; stroke-linejoin:round; stroke-width:4; stroke-opacity:1; fill:none\" points=\"\n",
       "  156.598,1287.28 182.952,1287.28 \n",
       "  \"/>\n",
       "<polyline clip-path=\"url(#clip630)\" style=\"stroke:#000000; stroke-linecap:butt; stroke-linejoin:round; stroke-width:4; stroke-opacity:1; fill:none\" points=\"\n",
       "  156.598,945.844 182.952,945.844 \n",
       "  \"/>\n",
       "<polyline clip-path=\"url(#clip630)\" style=\"stroke:#000000; stroke-linecap:butt; stroke-linejoin:round; stroke-width:4; stroke-opacity:1; fill:none\" points=\"\n",
       "  156.598,604.404 182.952,604.404 \n",
       "  \"/>\n",
       "<polyline clip-path=\"url(#clip630)\" style=\"stroke:#000000; stroke-linecap:butt; stroke-linejoin:round; stroke-width:4; stroke-opacity:1; fill:none\" points=\"\n",
       "  156.598,262.965 182.952,262.965 \n",
       "  \"/>\n",
       "<path clip-path=\"url(#clip630)\" d=\"M65.0198 1273.08 Q61.4087 1273.08 59.58 1276.65 Q57.7745 1280.19 57.7745 1287.32 Q57.7745 1294.42 59.58 1297.99 Q61.4087 1301.53 65.0198 1301.53 Q68.6541 1301.53 70.4596 1297.99 Q72.2883 1294.42 72.2883 1287.32 Q72.2883 1280.19 70.4596 1276.65 Q68.6541 1273.08 65.0198 1273.08 M65.0198 1269.38 Q70.83 1269.38 73.8855 1273.99 Q76.9642 1278.57 76.9642 1287.32 Q76.9642 1296.05 73.8855 1300.65 Q70.83 1305.23 65.0198 1305.23 Q59.2097 1305.23 56.131 1300.65 Q53.0754 1296.05 53.0754 1287.32 Q53.0754 1278.57 56.131 1273.99 Q59.2097 1269.38 65.0198 1269.38 Z\" fill=\"#000000\" fill-rule=\"evenodd\" fill-opacity=\"1\" /><path clip-path=\"url(#clip630)\" d=\"M85.1818 1298.68 L90.066 1298.68 L90.066 1304.56 L85.1818 1304.56 L85.1818 1298.68 Z\" fill=\"#000000\" fill-rule=\"evenodd\" fill-opacity=\"1\" /><path clip-path=\"url(#clip630)\" d=\"M104.279 1300.63 L120.598 1300.63 L120.598 1304.56 L98.6539 1304.56 L98.6539 1300.63 Q101.316 1297.87 105.899 1293.24 Q110.506 1288.59 111.686 1287.25 Q113.932 1284.73 114.811 1282.99 Q115.714 1281.23 115.714 1279.54 Q115.714 1276.79 113.77 1275.05 Q111.848 1273.31 108.746 1273.31 Q106.547 1273.31 104.094 1274.08 Q101.663 1274.84 98.8854 1276.39 L98.8854 1271.67 Q101.709 1270.54 104.163 1269.96 Q106.617 1269.38 108.654 1269.38 Q114.024 1269.38 117.219 1272.06 Q120.413 1274.75 120.413 1279.24 Q120.413 1281.37 119.603 1283.29 Q118.816 1285.19 116.709 1287.78 Q116.131 1288.45 113.029 1291.67 Q109.927 1294.86 104.279 1300.63 Z\" fill=\"#000000\" fill-rule=\"evenodd\" fill-opacity=\"1\" /><path clip-path=\"url(#clip630)\" d=\"M62.9365 931.643 Q59.3254 931.643 57.4967 935.208 Q55.6912 938.749 55.6912 945.879 Q55.6912 952.985 57.4967 956.55 Q59.3254 960.092 62.9365 960.092 Q66.5707 960.092 68.3763 956.55 Q70.205 952.985 70.205 945.879 Q70.205 938.749 68.3763 935.208 Q66.5707 931.643 62.9365 931.643 M62.9365 927.939 Q68.7467 927.939 71.8022 932.545 Q74.8809 937.129 74.8809 945.879 Q74.8809 954.606 71.8022 959.212 Q68.7467 963.795 62.9365 963.795 Q57.1264 963.795 54.0477 959.212 Q50.9921 954.606 50.9921 945.879 Q50.9921 937.129 54.0477 932.545 Q57.1264 927.939 62.9365 927.939 Z\" fill=\"#000000\" fill-rule=\"evenodd\" fill-opacity=\"1\" /><path clip-path=\"url(#clip630)\" d=\"M83.0984 957.244 L87.9827 957.244 L87.9827 963.124 L83.0984 963.124 L83.0984 957.244 Z\" fill=\"#000000\" fill-rule=\"evenodd\" fill-opacity=\"1\" /><path clip-path=\"url(#clip630)\" d=\"M111.015 932.638 L99.2095 951.087 L111.015 951.087 L111.015 932.638 M109.788 928.564 L115.668 928.564 L115.668 951.087 L120.598 951.087 L120.598 954.976 L115.668 954.976 L115.668 963.124 L111.015 963.124 L111.015 954.976 L95.4132 954.976 L95.4132 950.462 L109.788 928.564 Z\" fill=\"#000000\" fill-rule=\"evenodd\" fill-opacity=\"1\" /><path clip-path=\"url(#clip630)\" d=\"M63.2606 590.203 Q59.6495 590.203 57.8208 593.768 Q56.0152 597.31 56.0152 604.439 Q56.0152 611.546 57.8208 615.11 Q59.6495 618.652 63.2606 618.652 Q66.8948 618.652 68.7004 615.11 Q70.5291 611.546 70.5291 604.439 Q70.5291 597.31 68.7004 593.768 Q66.8948 590.203 63.2606 590.203 M63.2606 586.5 Q69.0707 586.5 72.1263 591.106 Q75.205 595.689 75.205 604.439 Q75.205 613.166 72.1263 617.772 Q69.0707 622.356 63.2606 622.356 Q57.4504 622.356 54.3717 617.772 Q51.3162 613.166 51.3162 604.439 Q51.3162 595.689 54.3717 591.106 Q57.4504 586.5 63.2606 586.5 Z\" fill=\"#000000\" fill-rule=\"evenodd\" fill-opacity=\"1\" /><path clip-path=\"url(#clip630)\" d=\"M83.4225 615.805 L88.3067 615.805 L88.3067 621.684 L83.4225 621.684 L83.4225 615.805 Z\" fill=\"#000000\" fill-rule=\"evenodd\" fill-opacity=\"1\" /><path clip-path=\"url(#clip630)\" d=\"M109.071 602.541 Q105.922 602.541 104.071 604.694 Q102.242 606.847 102.242 610.597 Q102.242 614.323 104.071 616.499 Q105.922 618.652 109.071 618.652 Q112.219 618.652 114.047 616.499 Q115.899 614.323 115.899 610.597 Q115.899 606.847 114.047 604.694 Q112.219 602.541 109.071 602.541 M118.353 587.888 L118.353 592.148 Q116.594 591.314 114.788 590.874 Q113.006 590.435 111.246 590.435 Q106.617 590.435 104.163 593.56 Q101.733 596.685 101.385 603.004 Q102.751 600.99 104.811 599.925 Q106.871 598.837 109.348 598.837 Q114.557 598.837 117.566 602.009 Q120.598 605.157 120.598 610.597 Q120.598 615.921 117.45 619.138 Q114.302 622.356 109.071 622.356 Q103.075 622.356 99.9039 617.772 Q96.7326 613.166 96.7326 604.439 Q96.7326 596.245 100.621 591.384 Q104.51 586.5 111.061 586.5 Q112.82 586.5 114.603 586.847 Q116.408 587.194 118.353 587.888 Z\" fill=\"#000000\" fill-rule=\"evenodd\" fill-opacity=\"1\" /><path clip-path=\"url(#clip630)\" d=\"M63.5152 248.764 Q59.9041 248.764 58.0754 252.328 Q56.2699 255.87 56.2699 263 Q56.2699 270.106 58.0754 273.671 Q59.9041 277.213 63.5152 277.213 Q67.1494 277.213 68.955 273.671 Q70.7837 270.106 70.7837 263 Q70.7837 255.87 68.955 252.328 Q67.1494 248.764 63.5152 248.764 M63.5152 245.06 Q69.3254 245.06 72.3809 249.666 Q75.4596 254.25 75.4596 263 Q75.4596 271.727 72.3809 276.333 Q69.3254 280.916 63.5152 280.916 Q57.7051 280.916 54.6264 276.333 Q51.5708 271.727 51.5708 263 Q51.5708 254.25 54.6264 249.666 Q57.7051 245.06 63.5152 245.06 Z\" fill=\"#000000\" fill-rule=\"evenodd\" fill-opacity=\"1\" /><path clip-path=\"url(#clip630)\" d=\"M83.6771 274.365 L88.5614 274.365 L88.5614 280.245 L83.6771 280.245 L83.6771 274.365 Z\" fill=\"#000000\" fill-rule=\"evenodd\" fill-opacity=\"1\" /><path clip-path=\"url(#clip630)\" d=\"M108.746 263.833 Q105.413 263.833 103.492 265.615 Q101.594 267.398 101.594 270.523 Q101.594 273.648 103.492 275.43 Q105.413 277.213 108.746 277.213 Q112.08 277.213 114.001 275.43 Q115.922 273.625 115.922 270.523 Q115.922 267.398 114.001 265.615 Q112.103 263.833 108.746 263.833 M104.071 261.842 Q101.061 261.102 99.3715 259.041 Q97.7048 256.981 97.7048 254.018 Q97.7048 249.875 100.645 247.467 Q103.608 245.06 108.746 245.06 Q113.908 245.06 116.848 247.467 Q119.788 249.875 119.788 254.018 Q119.788 256.981 118.098 259.041 Q116.432 261.102 113.445 261.842 Q116.825 262.629 118.7 264.921 Q120.598 267.213 120.598 270.523 Q120.598 275.546 117.52 278.231 Q114.464 280.916 108.746 280.916 Q103.029 280.916 99.9502 278.231 Q96.8947 275.546 96.8947 270.523 Q96.8947 267.213 98.7928 264.921 Q100.691 262.629 104.071 261.842 M102.358 254.458 Q102.358 257.143 104.024 258.648 Q105.714 260.152 108.746 260.152 Q111.756 260.152 113.445 258.648 Q115.158 257.143 115.158 254.458 Q115.158 251.773 113.445 250.268 Q111.756 248.764 108.746 248.764 Q105.714 248.764 104.024 250.268 Q102.358 251.773 102.358 254.458 Z\" fill=\"#000000\" fill-rule=\"evenodd\" fill-opacity=\"1\" /><polyline clip-path=\"url(#clip632)\" style=\"stroke:#009af9; stroke-linecap:butt; stroke-linejoin:round; stroke-width:4; stroke-opacity:1; fill:none\" points=\"\n",
       "  218.754,978.755 448.959,190.055 679.164,538.202 909.369,1324.98 1139.57,87.9763 1369.78,1445.72 1599.98,189.454 1830.19,265.92 2060.4,449.615 2290.6,619 \n",
       "  \n",
       "  \"/>\n",
       "<path clip-path=\"url(#clip630)\" d=\"\n",
       "M1983.1 216.178 L2279.55 216.178 L2279.55 95.2176 L1983.1 95.2176  Z\n",
       "  \" fill=\"#ffffff\" fill-rule=\"evenodd\" fill-opacity=\"1\"/>\n",
       "<polyline clip-path=\"url(#clip630)\" style=\"stroke:#000000; stroke-linecap:butt; stroke-linejoin:round; stroke-width:4; stroke-opacity:1; fill:none\" points=\"\n",
       "  1983.1,216.178 2279.55,216.178 2279.55,95.2176 1983.1,95.2176 1983.1,216.178 \n",
       "  \"/>\n",
       "<polyline clip-path=\"url(#clip630)\" style=\"stroke:#009af9; stroke-linecap:butt; stroke-linejoin:round; stroke-width:4; stroke-opacity:1; fill:none\" points=\"\n",
       "  2007.5,155.698 2153.92,155.698 \n",
       "  \"/>\n",
       "<path clip-path=\"url(#clip630)\" d=\"M2192.16 175.385 Q2190.35 180.015 2188.64 181.427 Q2186.93 182.839 2184.06 182.839 L2180.65 182.839 L2180.65 179.274 L2183.15 179.274 Q2184.91 179.274 2185.89 178.44 Q2186.86 177.607 2188.04 174.505 L2188.8 172.561 L2178.32 147.052 L2182.83 147.052 L2190.93 167.329 L2199.03 147.052 L2203.55 147.052 L2192.16 175.385 Z\" fill=\"#000000\" fill-rule=\"evenodd\" fill-opacity=\"1\" /><path clip-path=\"url(#clip630)\" d=\"M2210.84 169.042 L2218.48 169.042 L2218.48 142.677 L2210.17 144.343 L2210.17 140.084 L2218.43 138.418 L2223.11 138.418 L2223.11 169.042 L2230.75 169.042 L2230.75 172.978 L2210.84 172.978 L2210.84 169.042 Z\" fill=\"#000000\" fill-rule=\"evenodd\" fill-opacity=\"1\" /></svg>\n"
      ]
     },
     "execution_count": 45,
     "metadata": {},
     "output_type": "execute_result"
    }
   ],
   "source": [
    "using Plots\n",
    "y = rand(10)\n",
    "plot(y)"
   ]
  },
  {
   "cell_type": "code",
   "execution_count": 46,
   "metadata": {},
   "outputs": [],
   "source": [
    "import Pkg\n",
    "Pkg.add(\"Plots\")\n",
    "\n",
    "# if you want the latest features:\n",
    "Pkg.pkg\"add Plots#master\""
   ]
  },
  {
   "cell_type": "code",
   "execution_count": null,
   "metadata": {},
   "outputs": [],
   "source": [
    "Pkg.add(\"GR\")\n",
    "# Note that GR has additional installation requirements \n",
    "# https://gr-framework.org/julia.html#installation\n",
    "\n",
    "Pkg.add(\"PGFPlotsX\")\n",
    "# You need to have latex installed on your system \n",
    "\n",
    "Pkg.add(\"PlotlyJS\"); Pkg.add(\"ORCA\")\n",
    "# Note that you only need to add this if you need electron windows and\n",
    "# additional output formats, otherwise `plotly()` comes shipped with Plots.jl\n",
    "# In order to have a good experience with Jupyter, refer to plotly-specific\n",
    "# Jupyter installation jupyter https://github.com/plotly/plotly.py#installation\n",
    "\n",
    "Pkg.add(\"PyPlot\")\n",
    "# Depends only on PyPlot package"
   ]
  },
  {
   "cell_type": "code",
   "execution_count": null,
   "metadata": {},
   "outputs": [],
   "source": [
    "Pkg.add(\"UnicodePlots\")\n",
    "Pkg.add(\"InspectDR\")"
   ]
  },
  {
   "cell_type": "code",
   "execution_count": null,
   "metadata": {},
   "outputs": [],
   "source": [
    "Pkg.add(\"StatsPlots\")\n",
    "Pkg.add(\"GraphRecipes\")"
   ]
  },
  {
   "cell_type": "code",
   "execution_count": null,
   "metadata": {},
   "outputs": [],
   "source": [
    "using Plots"
   ]
  },
  {
   "cell_type": "code",
   "execution_count": 51,
   "metadata": {},
   "outputs": [
    {
     "data": {
      "image/svg+xml": [
       "<?xml version=\"1.0\" encoding=\"utf-8\"?>\n",
       "<svg xmlns=\"http://www.w3.org/2000/svg\" xmlns:xlink=\"http://www.w3.org/1999/xlink\" width=\"600\" height=\"400\" viewBox=\"0 0 2400 1600\">\n",
       "<defs>\n",
       "  <clipPath id=\"clip670\">\n",
       "    <rect x=\"0\" y=\"0\" width=\"2400\" height=\"1600\"/>\n",
       "  </clipPath>\n",
       "</defs>\n",
       "<path clip-path=\"url(#clip670)\" d=\"\n",
       "M0 1600 L2400 1600 L2400 0 L0 0  Z\n",
       "  \" fill=\"#ffffff\" fill-rule=\"evenodd\" fill-opacity=\"1\"/>\n",
       "<defs>\n",
       "  <clipPath id=\"clip671\">\n",
       "    <rect x=\"480\" y=\"0\" width=\"1681\" height=\"1600\"/>\n",
       "  </clipPath>\n",
       "</defs>\n",
       "<path clip-path=\"url(#clip670)\" d=\"\n",
       "M156.598 1486.45 L2352.76 1486.45 L2352.76 47.2441 L156.598 47.2441  Z\n",
       "  \" fill=\"#ffffff\" fill-rule=\"evenodd\" fill-opacity=\"1\"/>\n",
       "<defs>\n",
       "  <clipPath id=\"clip672\">\n",
       "    <rect x=\"156\" y=\"47\" width=\"2197\" height=\"1440\"/>\n",
       "  </clipPath>\n",
       "</defs>\n",
       "<polyline clip-path=\"url(#clip672)\" style=\"stroke:#000000; stroke-linecap:butt; stroke-linejoin:round; stroke-width:2; stroke-opacity:0.1; fill:none\" points=\"\n",
       "  448.959,1486.45 448.959,47.2441 \n",
       "  \"/>\n",
       "<polyline clip-path=\"url(#clip672)\" style=\"stroke:#000000; stroke-linecap:butt; stroke-linejoin:round; stroke-width:2; stroke-opacity:0.1; fill:none\" points=\"\n",
       "  909.369,1486.45 909.369,47.2441 \n",
       "  \"/>\n",
       "<polyline clip-path=\"url(#clip672)\" style=\"stroke:#000000; stroke-linecap:butt; stroke-linejoin:round; stroke-width:2; stroke-opacity:0.1; fill:none\" points=\"\n",
       "  1369.78,1486.45 1369.78,47.2441 \n",
       "  \"/>\n",
       "<polyline clip-path=\"url(#clip672)\" style=\"stroke:#000000; stroke-linecap:butt; stroke-linejoin:round; stroke-width:2; stroke-opacity:0.1; fill:none\" points=\"\n",
       "  1830.19,1486.45 1830.19,47.2441 \n",
       "  \"/>\n",
       "<polyline clip-path=\"url(#clip672)\" style=\"stroke:#000000; stroke-linecap:butt; stroke-linejoin:round; stroke-width:2; stroke-opacity:0.1; fill:none\" points=\"\n",
       "  2290.6,1486.45 2290.6,47.2441 \n",
       "  \"/>\n",
       "<polyline clip-path=\"url(#clip670)\" style=\"stroke:#000000; stroke-linecap:butt; stroke-linejoin:round; stroke-width:4; stroke-opacity:1; fill:none\" points=\"\n",
       "  156.598,1486.45 2352.76,1486.45 \n",
       "  \"/>\n",
       "<polyline clip-path=\"url(#clip670)\" style=\"stroke:#000000; stroke-linecap:butt; stroke-linejoin:round; stroke-width:4; stroke-opacity:1; fill:none\" points=\"\n",
       "  448.959,1486.45 448.959,1469.18 \n",
       "  \"/>\n",
       "<polyline clip-path=\"url(#clip670)\" style=\"stroke:#000000; stroke-linecap:butt; stroke-linejoin:round; stroke-width:4; stroke-opacity:1; fill:none\" points=\"\n",
       "  909.369,1486.45 909.369,1469.18 \n",
       "  \"/>\n",
       "<polyline clip-path=\"url(#clip670)\" style=\"stroke:#000000; stroke-linecap:butt; stroke-linejoin:round; stroke-width:4; stroke-opacity:1; fill:none\" points=\"\n",
       "  1369.78,1486.45 1369.78,1469.18 \n",
       "  \"/>\n",
       "<polyline clip-path=\"url(#clip670)\" style=\"stroke:#000000; stroke-linecap:butt; stroke-linejoin:round; stroke-width:4; stroke-opacity:1; fill:none\" points=\"\n",
       "  1830.19,1486.45 1830.19,1469.18 \n",
       "  \"/>\n",
       "<polyline clip-path=\"url(#clip670)\" style=\"stroke:#000000; stroke-linecap:butt; stroke-linejoin:round; stroke-width:4; stroke-opacity:1; fill:none\" points=\"\n",
       "  2290.6,1486.45 2290.6,1469.18 \n",
       "  \"/>\n",
       "<path clip-path=\"url(#clip670)\" d=\"M443.612 1543.18 L459.931 1543.18 L459.931 1547.12 L437.987 1547.12 L437.987 1543.18 Q440.649 1540.43 445.232 1535.8 Q449.838 1531.15 451.019 1529.81 Q453.264 1527.28 454.144 1525.55 Q455.047 1523.79 455.047 1522.1 Q455.047 1519.34 453.102 1517.61 Q451.181 1515.87 448.079 1515.87 Q445.88 1515.87 443.426 1516.63 Q440.996 1517.4 438.218 1518.95 L438.218 1514.23 Q441.042 1513.09 443.496 1512.51 Q445.95 1511.93 447.987 1511.93 Q453.357 1511.93 456.551 1514.62 Q459.746 1517.31 459.746 1521.8 Q459.746 1523.93 458.936 1525.85 Q458.149 1527.74 456.042 1530.34 Q455.463 1531.01 452.362 1534.23 Q449.26 1537.42 443.612 1543.18 Z\" fill=\"#000000\" fill-rule=\"evenodd\" fill-opacity=\"1\" /><path clip-path=\"url(#clip670)\" d=\"M912.379 1516.63 L900.573 1535.08 L912.379 1535.08 L912.379 1516.63 M911.152 1512.56 L917.031 1512.56 L917.031 1535.08 L921.962 1535.08 L921.962 1538.97 L917.031 1538.97 L917.031 1547.12 L912.379 1547.12 L912.379 1538.97 L896.777 1538.97 L896.777 1534.46 L911.152 1512.56 Z\" fill=\"#000000\" fill-rule=\"evenodd\" fill-opacity=\"1\" /><path clip-path=\"url(#clip670)\" d=\"M1370.18 1527.98 Q1367.04 1527.98 1365.18 1530.13 Q1363.36 1532.28 1363.36 1536.03 Q1363.36 1539.76 1365.18 1541.93 Q1367.04 1544.09 1370.18 1544.09 Q1373.33 1544.09 1375.16 1541.93 Q1377.01 1539.76 1377.01 1536.03 Q1377.01 1532.28 1375.16 1530.13 Q1373.33 1527.98 1370.18 1527.98 M1379.47 1513.32 L1379.47 1517.58 Q1377.71 1516.75 1375.9 1516.31 Q1374.12 1515.87 1372.36 1515.87 Q1367.73 1515.87 1365.28 1519 Q1362.85 1522.12 1362.5 1528.44 Q1363.87 1526.43 1365.93 1525.36 Q1367.99 1524.27 1370.46 1524.27 Q1375.67 1524.27 1378.68 1527.44 Q1381.71 1530.59 1381.71 1536.03 Q1381.71 1541.36 1378.56 1544.57 Q1375.42 1547.79 1370.18 1547.79 Q1364.19 1547.79 1361.02 1543.21 Q1357.85 1538.6 1357.85 1529.87 Q1357.85 1521.68 1361.74 1516.82 Q1365.62 1511.93 1372.18 1511.93 Q1373.93 1511.93 1375.72 1512.28 Q1377.52 1512.63 1379.47 1513.32 Z\" fill=\"#000000\" fill-rule=\"evenodd\" fill-opacity=\"1\" /><path clip-path=\"url(#clip670)\" d=\"M1830.19 1530.71 Q1826.86 1530.71 1824.94 1532.49 Q1823.04 1534.27 1823.04 1537.4 Q1823.04 1540.52 1824.94 1542.31 Q1826.86 1544.09 1830.19 1544.09 Q1833.52 1544.09 1835.44 1542.31 Q1837.37 1540.5 1837.37 1537.4 Q1837.37 1534.27 1835.44 1532.49 Q1833.55 1530.71 1830.19 1530.71 M1825.51 1528.72 Q1822.5 1527.98 1820.82 1525.92 Q1819.15 1523.86 1819.15 1520.89 Q1819.15 1516.75 1822.09 1514.34 Q1825.05 1511.93 1830.19 1511.93 Q1835.35 1511.93 1838.29 1514.34 Q1841.23 1516.75 1841.23 1520.89 Q1841.23 1523.86 1839.54 1525.92 Q1837.88 1527.98 1834.89 1528.72 Q1838.27 1529.5 1840.14 1531.8 Q1842.04 1534.09 1842.04 1537.4 Q1842.04 1542.42 1838.96 1545.11 Q1835.91 1547.79 1830.19 1547.79 Q1824.47 1547.79 1821.39 1545.11 Q1818.34 1542.42 1818.34 1537.4 Q1818.34 1534.09 1820.24 1531.8 Q1822.13 1529.5 1825.51 1528.72 M1823.8 1521.33 Q1823.8 1524.02 1825.47 1525.52 Q1827.16 1527.03 1830.19 1527.03 Q1833.2 1527.03 1834.89 1525.52 Q1836.6 1524.02 1836.6 1521.33 Q1836.6 1518.65 1834.89 1517.14 Q1833.2 1515.64 1830.19 1515.64 Q1827.16 1515.64 1825.47 1517.14 Q1823.8 1518.65 1823.8 1521.33 Z\" fill=\"#000000\" fill-rule=\"evenodd\" fill-opacity=\"1\" /><path clip-path=\"url(#clip670)\" d=\"M2265.29 1543.18 L2272.93 1543.18 L2272.93 1516.82 L2264.62 1518.49 L2264.62 1514.23 L2272.88 1512.56 L2277.56 1512.56 L2277.56 1543.18 L2285.2 1543.18 L2285.2 1547.12 L2265.29 1547.12 L2265.29 1543.18 Z\" fill=\"#000000\" fill-rule=\"evenodd\" fill-opacity=\"1\" /><path clip-path=\"url(#clip670)\" d=\"M2304.64 1515.64 Q2301.03 1515.64 2299.2 1519.2 Q2297.39 1522.75 2297.39 1529.87 Q2297.39 1536.98 2299.2 1540.55 Q2301.03 1544.09 2304.64 1544.09 Q2308.27 1544.09 2310.08 1540.55 Q2311.91 1536.98 2311.91 1529.87 Q2311.91 1522.75 2310.08 1519.2 Q2308.27 1515.64 2304.64 1515.64 M2304.64 1511.93 Q2310.45 1511.93 2313.51 1516.54 Q2316.58 1521.12 2316.58 1529.87 Q2316.58 1538.6 2313.51 1543.21 Q2310.45 1547.79 2304.64 1547.79 Q2298.83 1547.79 2295.75 1543.21 Q2292.7 1538.6 2292.7 1529.87 Q2292.7 1521.12 2295.75 1516.54 Q2298.83 1511.93 2304.64 1511.93 Z\" fill=\"#000000\" fill-rule=\"evenodd\" fill-opacity=\"1\" /><polyline clip-path=\"url(#clip672)\" style=\"stroke:#000000; stroke-linecap:butt; stroke-linejoin:round; stroke-width:2; stroke-opacity:0.1; fill:none\" points=\"\n",
       "  156.598,1217.63 2352.76,1217.63 \n",
       "  \"/>\n",
       "<polyline clip-path=\"url(#clip672)\" style=\"stroke:#000000; stroke-linecap:butt; stroke-linejoin:round; stroke-width:2; stroke-opacity:0.1; fill:none\" points=\"\n",
       "  156.598,928.143 2352.76,928.143 \n",
       "  \"/>\n",
       "<polyline clip-path=\"url(#clip672)\" style=\"stroke:#000000; stroke-linecap:butt; stroke-linejoin:round; stroke-width:2; stroke-opacity:0.1; fill:none\" points=\"\n",
       "  156.598,638.655 2352.76,638.655 \n",
       "  \"/>\n",
       "<polyline clip-path=\"url(#clip672)\" style=\"stroke:#000000; stroke-linecap:butt; stroke-linejoin:round; stroke-width:2; stroke-opacity:0.1; fill:none\" points=\"\n",
       "  156.598,349.168 2352.76,349.168 \n",
       "  \"/>\n",
       "<polyline clip-path=\"url(#clip672)\" style=\"stroke:#000000; stroke-linecap:butt; stroke-linejoin:round; stroke-width:2; stroke-opacity:0.1; fill:none\" points=\"\n",
       "  156.598,59.6804 2352.76,59.6804 \n",
       "  \"/>\n",
       "<polyline clip-path=\"url(#clip670)\" style=\"stroke:#000000; stroke-linecap:butt; stroke-linejoin:round; stroke-width:4; stroke-opacity:1; fill:none\" points=\"\n",
       "  156.598,1486.45 156.598,47.2441 \n",
       "  \"/>\n",
       "<polyline clip-path=\"url(#clip670)\" style=\"stroke:#000000; stroke-linecap:butt; stroke-linejoin:round; stroke-width:4; stroke-opacity:1; fill:none\" points=\"\n",
       "  156.598,1217.63 182.952,1217.63 \n",
       "  \"/>\n",
       "<polyline clip-path=\"url(#clip670)\" style=\"stroke:#000000; stroke-linecap:butt; stroke-linejoin:round; stroke-width:4; stroke-opacity:1; fill:none\" points=\"\n",
       "  156.598,928.143 182.952,928.143 \n",
       "  \"/>\n",
       "<polyline clip-path=\"url(#clip670)\" style=\"stroke:#000000; stroke-linecap:butt; stroke-linejoin:round; stroke-width:4; stroke-opacity:1; fill:none\" points=\"\n",
       "  156.598,638.655 182.952,638.655 \n",
       "  \"/>\n",
       "<polyline clip-path=\"url(#clip670)\" style=\"stroke:#000000; stroke-linecap:butt; stroke-linejoin:round; stroke-width:4; stroke-opacity:1; fill:none\" points=\"\n",
       "  156.598,349.168 182.952,349.168 \n",
       "  \"/>\n",
       "<polyline clip-path=\"url(#clip670)\" style=\"stroke:#000000; stroke-linecap:butt; stroke-linejoin:round; stroke-width:4; stroke-opacity:1; fill:none\" points=\"\n",
       "  156.598,59.6804 182.952,59.6804 \n",
       "  \"/>\n",
       "<path clip-path=\"url(#clip670)\" d=\"M65.0198 1203.43 Q61.4087 1203.43 59.58 1206.99 Q57.7745 1210.54 57.7745 1217.66 Q57.7745 1224.77 59.58 1228.34 Q61.4087 1231.88 65.0198 1231.88 Q68.6541 1231.88 70.4596 1228.34 Q72.2883 1224.77 72.2883 1217.66 Q72.2883 1210.54 70.4596 1206.99 Q68.6541 1203.43 65.0198 1203.43 M65.0198 1199.73 Q70.83 1199.73 73.8855 1204.33 Q76.9642 1208.91 76.9642 1217.66 Q76.9642 1226.39 73.8855 1231 Q70.83 1235.58 65.0198 1235.58 Q59.2097 1235.58 56.131 1231 Q53.0754 1226.39 53.0754 1217.66 Q53.0754 1208.91 56.131 1204.33 Q59.2097 1199.73 65.0198 1199.73 Z\" fill=\"#000000\" fill-rule=\"evenodd\" fill-opacity=\"1\" /><path clip-path=\"url(#clip670)\" d=\"M85.1818 1229.03 L90.066 1229.03 L90.066 1234.91 L85.1818 1234.91 L85.1818 1229.03 Z\" fill=\"#000000\" fill-rule=\"evenodd\" fill-opacity=\"1\" /><path clip-path=\"url(#clip670)\" d=\"M104.279 1230.98 L120.598 1230.98 L120.598 1234.91 L98.6539 1234.91 L98.6539 1230.98 Q101.316 1228.22 105.899 1223.59 Q110.506 1218.94 111.686 1217.6 Q113.932 1215.07 114.811 1213.34 Q115.714 1211.58 115.714 1209.89 Q115.714 1207.13 113.77 1205.4 Q111.848 1203.66 108.746 1203.66 Q106.547 1203.66 104.094 1204.42 Q101.663 1205.19 98.8854 1206.74 L98.8854 1202.02 Q101.709 1200.88 104.163 1200.3 Q106.617 1199.73 108.654 1199.73 Q114.024 1199.73 117.219 1202.41 Q120.413 1205.1 120.413 1209.59 Q120.413 1211.72 119.603 1213.64 Q118.816 1215.54 116.709 1218.13 Q116.131 1218.8 113.029 1222.02 Q109.927 1225.21 104.279 1230.98 Z\" fill=\"#000000\" fill-rule=\"evenodd\" fill-opacity=\"1\" /><path clip-path=\"url(#clip670)\" d=\"M62.9365 913.941 Q59.3254 913.941 57.4967 917.506 Q55.6912 921.048 55.6912 928.177 Q55.6912 935.284 57.4967 938.849 Q59.3254 942.39 62.9365 942.39 Q66.5707 942.39 68.3763 938.849 Q70.205 935.284 70.205 928.177 Q70.205 921.048 68.3763 917.506 Q66.5707 913.941 62.9365 913.941 M62.9365 910.238 Q68.7467 910.238 71.8022 914.844 Q74.8809 919.427 74.8809 928.177 Q74.8809 936.904 71.8022 941.511 Q68.7467 946.094 62.9365 946.094 Q57.1264 946.094 54.0477 941.511 Q50.9921 936.904 50.9921 928.177 Q50.9921 919.427 54.0477 914.844 Q57.1264 910.238 62.9365 910.238 Z\" fill=\"#000000\" fill-rule=\"evenodd\" fill-opacity=\"1\" /><path clip-path=\"url(#clip670)\" d=\"M83.0984 939.543 L87.9827 939.543 L87.9827 945.423 L83.0984 945.423 L83.0984 939.543 Z\" fill=\"#000000\" fill-rule=\"evenodd\" fill-opacity=\"1\" /><path clip-path=\"url(#clip670)\" d=\"M111.015 914.937 L99.2095 933.386 L111.015 933.386 L111.015 914.937 M109.788 910.863 L115.668 910.863 L115.668 933.386 L120.598 933.386 L120.598 937.275 L115.668 937.275 L115.668 945.423 L111.015 945.423 L111.015 937.275 L95.4132 937.275 L95.4132 932.761 L109.788 910.863 Z\" fill=\"#000000\" fill-rule=\"evenodd\" fill-opacity=\"1\" /><path clip-path=\"url(#clip670)\" d=\"M63.2606 624.454 Q59.6495 624.454 57.8208 628.019 Q56.0152 631.56 56.0152 638.69 Q56.0152 645.796 57.8208 649.361 Q59.6495 652.903 63.2606 652.903 Q66.8948 652.903 68.7004 649.361 Q70.5291 645.796 70.5291 638.69 Q70.5291 631.56 68.7004 628.019 Q66.8948 624.454 63.2606 624.454 M63.2606 620.75 Q69.0707 620.75 72.1263 625.357 Q75.205 629.94 75.205 638.69 Q75.205 647.417 72.1263 652.023 Q69.0707 656.607 63.2606 656.607 Q57.4504 656.607 54.3717 652.023 Q51.3162 647.417 51.3162 638.69 Q51.3162 629.94 54.3717 625.357 Q57.4504 620.75 63.2606 620.75 Z\" fill=\"#000000\" fill-rule=\"evenodd\" fill-opacity=\"1\" /><path clip-path=\"url(#clip670)\" d=\"M83.4225 650.056 L88.3067 650.056 L88.3067 655.935 L83.4225 655.935 L83.4225 650.056 Z\" fill=\"#000000\" fill-rule=\"evenodd\" fill-opacity=\"1\" /><path clip-path=\"url(#clip670)\" d=\"M109.071 636.792 Q105.922 636.792 104.071 638.945 Q102.242 641.097 102.242 644.847 Q102.242 648.574 104.071 650.75 Q105.922 652.903 109.071 652.903 Q112.219 652.903 114.047 650.75 Q115.899 648.574 115.899 644.847 Q115.899 641.097 114.047 638.945 Q112.219 636.792 109.071 636.792 M118.353 622.139 L118.353 626.398 Q116.594 625.565 114.788 625.125 Q113.006 624.685 111.246 624.685 Q106.617 624.685 104.163 627.81 Q101.733 630.935 101.385 637.255 Q102.751 635.241 104.811 634.176 Q106.871 633.088 109.348 633.088 Q114.557 633.088 117.566 636.259 Q120.598 639.408 120.598 644.847 Q120.598 650.171 117.45 653.389 Q114.302 656.607 109.071 656.607 Q103.075 656.607 99.9039 652.023 Q96.7326 647.417 96.7326 638.69 Q96.7326 630.496 100.621 625.635 Q104.51 620.75 111.061 620.75 Q112.82 620.75 114.603 621.098 Q116.408 621.445 118.353 622.139 Z\" fill=\"#000000\" fill-rule=\"evenodd\" fill-opacity=\"1\" /><path clip-path=\"url(#clip670)\" d=\"M63.5152 334.967 Q59.9041 334.967 58.0754 338.531 Q56.2699 342.073 56.2699 349.203 Q56.2699 356.309 58.0754 359.874 Q59.9041 363.415 63.5152 363.415 Q67.1494 363.415 68.955 359.874 Q70.7837 356.309 70.7837 349.203 Q70.7837 342.073 68.955 338.531 Q67.1494 334.967 63.5152 334.967 M63.5152 331.263 Q69.3254 331.263 72.3809 335.869 Q75.4596 340.453 75.4596 349.203 Q75.4596 357.929 72.3809 362.536 Q69.3254 367.119 63.5152 367.119 Q57.7051 367.119 54.6264 362.536 Q51.5708 357.929 51.5708 349.203 Q51.5708 340.453 54.6264 335.869 Q57.7051 331.263 63.5152 331.263 Z\" fill=\"#000000\" fill-rule=\"evenodd\" fill-opacity=\"1\" /><path clip-path=\"url(#clip670)\" d=\"M83.6771 360.568 L88.5614 360.568 L88.5614 366.448 L83.6771 366.448 L83.6771 360.568 Z\" fill=\"#000000\" fill-rule=\"evenodd\" fill-opacity=\"1\" /><path clip-path=\"url(#clip670)\" d=\"M108.746 350.036 Q105.413 350.036 103.492 351.818 Q101.594 353.601 101.594 356.726 Q101.594 359.851 103.492 361.633 Q105.413 363.415 108.746 363.415 Q112.08 363.415 114.001 361.633 Q115.922 359.828 115.922 356.726 Q115.922 353.601 114.001 351.818 Q112.103 350.036 108.746 350.036 M104.071 348.045 Q101.061 347.304 99.3715 345.244 Q97.7048 343.184 97.7048 340.221 Q97.7048 336.078 100.645 333.67 Q103.608 331.263 108.746 331.263 Q113.908 331.263 116.848 333.67 Q119.788 336.078 119.788 340.221 Q119.788 343.184 118.098 345.244 Q116.432 347.304 113.445 348.045 Q116.825 348.832 118.7 351.124 Q120.598 353.416 120.598 356.726 Q120.598 361.749 117.52 364.434 Q114.464 367.119 108.746 367.119 Q103.029 367.119 99.9502 364.434 Q96.8947 361.749 96.8947 356.726 Q96.8947 353.416 98.7928 351.124 Q100.691 348.832 104.071 348.045 M102.358 340.661 Q102.358 343.346 104.024 344.851 Q105.714 346.355 108.746 346.355 Q111.756 346.355 113.445 344.851 Q115.158 343.346 115.158 340.661 Q115.158 337.976 113.445 336.471 Q111.756 334.967 108.746 334.967 Q105.714 334.967 104.024 336.471 Q102.358 337.976 102.358 340.661 Z\" fill=\"#000000\" fill-rule=\"evenodd\" fill-opacity=\"1\" /><path clip-path=\"url(#clip670)\" d=\"M54.2328 73.0252 L61.8717 73.0252 L61.8717 46.6596 L53.5616 48.3263 L53.5616 44.0671 L61.8254 42.4004 L66.5013 42.4004 L66.5013 73.0252 L74.1402 73.0252 L74.1402 76.9604 L54.2328 76.9604 L54.2328 73.0252 Z\" fill=\"#000000\" fill-rule=\"evenodd\" fill-opacity=\"1\" /><path clip-path=\"url(#clip670)\" d=\"M83.5845 71.0808 L88.4688 71.0808 L88.4688 76.9604 L83.5845 76.9604 L83.5845 71.0808 Z\" fill=\"#000000\" fill-rule=\"evenodd\" fill-opacity=\"1\" /><path clip-path=\"url(#clip670)\" d=\"M108.654 45.4791 Q105.043 45.4791 103.214 49.0439 Q101.409 52.5855 101.409 59.7151 Q101.409 66.8216 103.214 70.3864 Q105.043 73.928 108.654 73.928 Q112.288 73.928 114.094 70.3864 Q115.922 66.8216 115.922 59.7151 Q115.922 52.5855 114.094 49.0439 Q112.288 45.4791 108.654 45.4791 M108.654 41.7754 Q114.464 41.7754 117.52 46.3819 Q120.598 50.9652 120.598 59.7151 Q120.598 68.4419 117.52 73.0484 Q114.464 77.6317 108.654 77.6317 Q102.844 77.6317 99.765 73.0484 Q96.7095 68.4419 96.7095 59.7151 Q96.7095 50.9652 99.765 46.3819 Q102.844 41.7754 108.654 41.7754 Z\" fill=\"#000000\" fill-rule=\"evenodd\" fill-opacity=\"1\" /><polyline clip-path=\"url(#clip672)\" style=\"stroke:#009af9; stroke-linecap:butt; stroke-linejoin:round; stroke-width:4; stroke-opacity:1; fill:none\" points=\"\n",
       "  218.754,1392.88 448.959,275.711 679.164,1445.72 909.369,1403.25 1139.57,87.9763 1369.78,1388.29 1599.98,888.922 1830.19,762.39 2060.4,857.109 2290.6,102.457 \n",
       "  \n",
       "  \"/>\n",
       "<path clip-path=\"url(#clip670)\" d=\"\n",
       "M1983.1 216.178 L2279.55 216.178 L2279.55 95.2176 L1983.1 95.2176  Z\n",
       "  \" fill=\"#ffffff\" fill-rule=\"evenodd\" fill-opacity=\"1\"/>\n",
       "<polyline clip-path=\"url(#clip670)\" style=\"stroke:#000000; stroke-linecap:butt; stroke-linejoin:round; stroke-width:4; stroke-opacity:1; fill:none\" points=\"\n",
       "  1983.1,216.178 2279.55,216.178 2279.55,95.2176 1983.1,95.2176 1983.1,216.178 \n",
       "  \"/>\n",
       "<polyline clip-path=\"url(#clip670)\" style=\"stroke:#009af9; stroke-linecap:butt; stroke-linejoin:round; stroke-width:4; stroke-opacity:1; fill:none\" points=\"\n",
       "  2007.5,155.698 2153.92,155.698 \n",
       "  \"/>\n",
       "<path clip-path=\"url(#clip670)\" d=\"M2192.16 175.385 Q2190.35 180.015 2188.64 181.427 Q2186.93 182.839 2184.06 182.839 L2180.65 182.839 L2180.65 179.274 L2183.15 179.274 Q2184.91 179.274 2185.89 178.44 Q2186.86 177.607 2188.04 174.505 L2188.8 172.561 L2178.32 147.052 L2182.83 147.052 L2190.93 167.329 L2199.03 147.052 L2203.55 147.052 L2192.16 175.385 Z\" fill=\"#000000\" fill-rule=\"evenodd\" fill-opacity=\"1\" /><path clip-path=\"url(#clip670)\" d=\"M2210.84 169.042 L2218.48 169.042 L2218.48 142.677 L2210.17 144.343 L2210.17 140.084 L2218.43 138.418 L2223.11 138.418 L2223.11 169.042 L2230.75 169.042 L2230.75 172.978 L2210.84 172.978 L2210.84 169.042 Z\" fill=\"#000000\" fill-rule=\"evenodd\" fill-opacity=\"1\" /></svg>\n"
      ]
     },
     "execution_count": 51,
     "metadata": {},
     "output_type": "execute_result"
    }
   ],
   "source": [
    "y = rand(10)\n",
    "plot(y)"
   ]
  },
  {
   "cell_type": "code",
   "execution_count": null,
   "metadata": {},
   "outputs": [],
   "source": [
    "using Plots\n",
    "x = [1,2,3]\n",
    "y = [1,4,9]\n",
    "plot(x,y)"
   ]
  },
  {
   "cell_type": "code",
   "execution_count": 52,
   "metadata": {},
   "outputs": [
    {
     "name": "stderr",
     "output_type": "stream",
     "text": [
      "┌ Info: For saving to png with the Plotly backend PlotlyBase has to be installed.\n",
      "└ @ Plots C:\\Users\\Carla sama\\.julia\\packages\\Plots\\zd6zi\\src\\backends.jl:372\n",
      "┌ Info: Installing matplotlib via the Conda matplotlib package...\n",
      "└ @ PyCall C:\\Users\\Carla sama\\.julia\\packages\\PyCall\\BD546\\src\\PyCall.jl:711\n",
      "┌ Info: Running `conda install -y matplotlib` in root environment\n",
      "└ @ Conda C:\\Users\\Carla sama\\.julia\\packages\\Conda\\sNGum\\src\\Conda.jl:128\n"
     ]
    },
    {
     "name": "stdout",
     "output_type": "stream",
     "text": [
      "Collecting package metadata (current_repodata.json): ...working... done\n",
      "Solving environment: ...working... done\n",
      "\n",
      "## Package Plan ##\n",
      "\n",
      "  environment location: C:\\Users\\Carla sama\\.julia\\conda\\3\n",
      "\n",
      "  added / updated specs:\n",
      "    - matplotlib\n",
      "\n",
      "\n",
      "The following packages will be downloaded:\n",
      "\n",
      "    package                    |            build\n",
      "    ---------------------------|-----------------\n",
      "    cycler-0.10.0              |           py38_0          14 KB\n",
      "    freetype-2.10.4            |       hd328e21_0         466 KB\n",
      "    icu-58.2                   |       ha925a31_3         9.4 MB\n",
      "    jpeg-9b                    |       hb83a4c4_2         245 KB\n",
      "    kiwisolver-1.3.1           |   py38hd77b12b_0          52 KB\n",
      "    libpng-1.6.37              |       h2a8f88b_0         333 KB\n",
      "    libtiff-4.2.0              |       hd0e1b90_0         786 KB\n",
      "    lz4-c-1.9.3                |       h2bbff1b_0         131 KB\n",
      "    matplotlib-3.3.4           |   py38haa95532_0          27 KB\n",
      "    matplotlib-base-3.3.4      |   py38h49ac443_0         5.1 MB\n",
      "    olefile-0.46               |             py_0          33 KB\n",
      "    pillow-8.2.0               |   py38h4fa10fc_0         671 KB\n",
      "    pyparsing-2.4.7            |     pyhd3eb1b0_0          59 KB\n",
      "    pyqt-5.9.2                 |   py38ha925a31_4         3.2 MB\n",
      "    python-dateutil-2.8.1      |     pyhd3eb1b0_0         221 KB\n",
      "    qt-5.9.7                   |   vc14h73c81de_0        72.5 MB\n",
      "    sip-4.19.13                |   py38ha925a31_0         262 KB\n",
      "    tk-8.6.10                  |       he774522_0         2.7 MB\n",
      "    tornado-6.1                |   py38h2bbff1b_0         612 KB\n",
      "    xz-5.2.5                   |       h62dcd97_0         244 KB\n",
      "    zstd-1.4.9                 |       h19a0ad4_0         478 KB\n",
      "    ------------------------------------------------------------\n",
      "                                           Total:        97.4 MB\n",
      "\n",
      "The following NEW packages will be INSTALLED:\n",
      "\n",
      "  cycler             pkgs/main/win-64::cycler-0.10.0-py38_0\n",
      "  freetype           pkgs/main/win-64::freetype-2.10.4-hd328e21_0\n",
      "  icu                pkgs/main/win-64::icu-58.2-ha925a31_3\n",
      "  jpeg               pkgs/main/win-64::jpeg-9b-hb83a4c4_2\n",
      "  kiwisolver         pkgs/main/win-64::kiwisolver-1.3.1-py38hd77b12b_0\n",
      "  libpng             pkgs/main/win-64::libpng-1.6.37-h2a8f88b_0\n",
      "  libtiff            pkgs/main/win-64::libtiff-4.2.0-hd0e1b90_0\n",
      "  lz4-c              pkgs/main/win-64::lz4-c-1.9.3-h2bbff1b_0\n",
      "  matplotlib         pkgs/main/win-64::matplotlib-3.3.4-py38haa95532_0\n",
      "  matplotlib-base    pkgs/main/win-64::matplotlib-base-3.3.4-py38h49ac443_0\n",
      "  olefile            pkgs/main/noarch::olefile-0.46-py_0\n",
      "  pillow             pkgs/main/win-64::pillow-8.2.0-py38h4fa10fc_0\n",
      "  pyparsing          pkgs/main/noarch::pyparsing-2.4.7-pyhd3eb1b0_0\n",
      "  pyqt               pkgs/main/win-64::pyqt-5.9.2-py38ha925a31_4\n",
      "  python-dateutil    pkgs/main/noarch::python-dateutil-2.8.1-pyhd3eb1b0_0\n",
      "  qt                 pkgs/main/win-64::qt-5.9.7-vc14h73c81de_0\n",
      "  sip                pkgs/main/win-64::sip-4.19.13-py38ha925a31_0\n",
      "  tk                 pkgs/main/win-64::tk-8.6.10-he774522_0\n",
      "  tornado            pkgs/main/win-64::tornado-6.1-py38h2bbff1b_0\n",
      "  xz                 pkgs/main/win-64::xz-5.2.5-h62dcd97_0\n",
      "  zstd               pkgs/main/win-64::zstd-1.4.9-h19a0ad4_0\n",
      "\n",
      "\n",
      "\n",
      "Downloading and Extracting Packages\n",
      "libpng-1.6.37        | 333 KB    | ########## | 100% \n",
      "olefile-0.46         | 33 KB     | ########## | 100% \n",
      "python-dateutil-2.8. | 221 KB    | ########## | 100% \n",
      "xz-5.2.5             | 244 KB    | ########## | 100% \n",
      "zstd-1.4.9           | 478 KB    | ########## | 100% \n",
      "freetype-2.10.4      | 466 KB    | ########## | 100% \n",
      "tk-8.6.10            | 2.7 MB    | ########## | 100% \n",
      "lz4-c-1.9.3          | 131 KB    | ########## | 100% \n",
      "pyqt-5.9.2           | 3.2 MB    | ########## | 100% \n",
      "jpeg-9b              | 245 KB    | ########## | 100% \n",
      "libtiff-4.2.0        | 786 KB    | ########## | 100% \n",
      "pyparsing-2.4.7      | 59 KB     | ########## | 100% \n",
      "matplotlib-3.3.4     | 27 KB     | ########## | 100% \n",
      "kiwisolver-1.3.1     | 52 KB     | ########## | 100% \n",
      "tornado-6.1          | 612 KB    | ########## | 100% \n",
      "sip-4.19.13          | 262 KB    | ########## | 100% \n",
      "qt-5.9.7             | 72.5 MB   | ########## | 100% \n",
      "pillow-8.2.0         | 671 KB    | ########## | 100% \n",
      "matplotlib-base-3.3. | 5.1 MB    | ########## | 100% \n",
      "icu-58.2             | 9.4 MB    | ########## | 100% \n",
      "cycler-0.10.0        | 14 KB     | ########## | 100% \n",
      "Preparing transaction: ...working... done\n",
      "Verifying transaction: ...working... done\n",
      "Executing transaction: ...working... done\n"
     ]
    },
    {
     "name": "stderr",
     "output_type": "stream",
     "text": [
      "Matplotlib is building the font cache; this may take a moment.\r\n"
     ]
    },
    {
     "data": {
      "text/plain": [
       "Plots.PyPlotBackend()"
      ]
     },
     "execution_count": 52,
     "metadata": {},
     "output_type": "execute_result"
    }
   ],
   "source": []
  },
  {
   "cell_type": "code",
   "execution_count": null,
   "metadata": {},
   "outputs": [],
   "source": []
  }
 ],
 "metadata": {
  "kernelspec": {
   "display_name": "Julia 1.6.1",
   "language": "julia",
   "name": "julia-1.6"
  },
  "language_info": {
   "file_extension": ".jl",
   "mimetype": "application/julia",
   "name": "julia",
   "version": "1.6.1"
  }
 },
 "nbformat": 4,
 "nbformat_minor": 2
}
